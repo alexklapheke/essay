{
 "cells": [
  {
   "cell_type": "code",
   "execution_count": 1,
   "metadata": {},
   "outputs": [],
   "source": [
    "import pandas as pd\n",
    "import numpy as np\n",
    "import matplotlib.pyplot as plt\n",
    "import plotstyle"
   ]
  },
  {
   "cell_type": "code",
   "execution_count": 19,
   "metadata": {},
   "outputs": [
    {
     "data": {
      "image/png": "[encoded data removed]",
      "text/plain": [
       "<Figure size 288x216 with 1 Axes>"
      ]
     },
     "metadata": {
      "needs_background": "dark"
     },
     "output_type": "display_data"
    }
   ],
   "source": [
    "anc = pd.read_csv(\"../data/anc-balancing.tsv\", sep=\"\\t\")\n",
    "group = anc.groupby([\"Domain\", \"Modality\"]).sum()[\"Words\"].reset_index()\n",
    "\n",
    "spoken = group[group[\"Modality\"] == \"Spoken\"]\n",
    "written = group[group[\"Modality\"] == \"Written\"]\n",
    "total = group[\"Words\"].sum()\n",
    "\n",
    "fig, ax = plt.subplots(1, 1, figsize=(4, 3))\n",
    "\n",
    "plotstyle.setup(\"\", \"\", \"\", yformat=\"{x:,.0f}\", ax=ax)\n",
    "\n",
    "bars3 = ax.barh([\"Total\"], [0])\n",
    "bars2 = ax.barh(written[\"Domain\"], written[\"Words\"], color=plotstyle.palette[0], label=\"Written\")\n",
    "bars1 = ax.barh(spoken[\"Domain\"], spoken[\"Words\"], color=plotstyle.palette[1], label=\"Spoken\")\n",
    "ax.set_xticks([])\n",
    "ax.set_yticklabels(pd.concat([ # why is this necessary, matplotlib??\n",
    "    spoken[\"Domain\"].iloc[::-1],\n",
    "    written[\"Domain\"].iloc[::-1],\n",
    "    pd.Series(\"\")]).iloc[::-1]\n",
    ")\n",
    "# <https://stackoverflow.com/a/46160465>\n",
    "handles, labels = plt.gca().get_legend_handles_labels()\n",
    "order = [1,0]\n",
    "plt.legend([handles[idx] for idx in order],[labels[idx] for idx in order], loc=(1.25, 0.75), framealpha=1, frameon=False)\n",
    "#plt.legend(handles=ax.get_children()[0:2], labels=list(group[\"Modality\"].unique()))\n",
    "#plt.tight_layout()\n",
    "\n",
    "#fig.get_figwidth()\n",
    "plotstyle.autolabel(bars1, fig=fig, ax=ax, color=\"gray\")\n",
    "plotstyle.autolabel(bars2, fig=fig, ax=ax, color=\"gray\")\n",
    "plotstyle.autolabel(bars3, fig=fig, ax=ax, suffix=\" words total\", widths=[total], weight=\"bold\")\n",
    "\n",
    "plt.savefig(\"../graphs/anc_balancing.svg\", transparent=True, bbox_inches='tight')"
   ]
  },
  {
   "cell_type": "code",
   "execution_count": 3,
   "metadata": {},
   "outputs": [
    {
     "data": {
      "text/plain": [
       "0                 \n",
       "7        Telephone\n",
       "0     Face-to-face\n",
       "8    Travel guides\n",
       "6        Technical\n",
       "5      Non-fiction\n",
       "4          Letters\n",
       "3          Journal\n",
       "2       Government\n",
       "1          Fiction\n",
       "dtype: object"
      ]
     },
     "execution_count": 3,
     "metadata": {},
     "output_type": "execute_result"
    }
   ],
   "source": [
    "pd.concat([written[\"Domain\"], spoken[\"Domain\"], pd.Series(\"\")]).iloc[::-1]"
   ]
  },
  {
   "cell_type": "code",
   "execution_count": 4,
   "metadata": {},
   "outputs": [
    {
     "data": {
      "text/html": [
       "<div>\n",
       "<style scoped>\n",
       "    .dataframe tbody tr th:only-of-type {\n",
       "        vertical-align: middle;\n",
       "    }\n",
       "\n",
       "    .dataframe tbody tr th {\n",
       "        vertical-align: top;\n",
       "    }\n",
       "\n",
       "    .dataframe thead th {\n",
       "        text-align: right;\n",
       "    }\n",
       "</style>\n",
       "<table border=\"1\" class=\"dataframe\">\n",
       "  <thead>\n",
       "    <tr style=\"text-align: right;\">\n",
       "      <th></th>\n",
       "      <th>Domain</th>\n",
       "      <th>Modality</th>\n",
       "      <th>Words</th>\n",
       "    </tr>\n",
       "  </thead>\n",
       "  <tbody>\n",
       "    <tr>\n",
       "      <th>0</th>\n",
       "      <td>Face-to-face</td>\n",
       "      <td>Spoken</td>\n",
       "      <td>198295</td>\n",
       "    </tr>\n",
       "    <tr>\n",
       "      <th>1</th>\n",
       "      <td>Fiction</td>\n",
       "      <td>Written</td>\n",
       "      <td>61746</td>\n",
       "    </tr>\n",
       "    <tr>\n",
       "      <th>2</th>\n",
       "      <td>Government</td>\n",
       "      <td>Written</td>\n",
       "      <td>1329885</td>\n",
       "    </tr>\n",
       "    <tr>\n",
       "      <th>3</th>\n",
       "      <td>Journal</td>\n",
       "      <td>Written</td>\n",
       "      <td>4821192</td>\n",
       "    </tr>\n",
       "    <tr>\n",
       "      <th>4</th>\n",
       "      <td>Letters</td>\n",
       "      <td>Written</td>\n",
       "      <td>91318</td>\n",
       "    </tr>\n",
       "    <tr>\n",
       "      <th>5</th>\n",
       "      <td>Non-fiction</td>\n",
       "      <td>Written</td>\n",
       "      <td>330524</td>\n",
       "    </tr>\n",
       "    <tr>\n",
       "      <th>6</th>\n",
       "      <td>Technical</td>\n",
       "      <td>Written</td>\n",
       "      <td>3758994</td>\n",
       "    </tr>\n",
       "    <tr>\n",
       "      <th>7</th>\n",
       "      <td>Telephone</td>\n",
       "      <td>Spoken</td>\n",
       "      <td>3019477</td>\n",
       "    </tr>\n",
       "    <tr>\n",
       "      <th>8</th>\n",
       "      <td>Travel guides</td>\n",
       "      <td>Written</td>\n",
       "      <td>1012496</td>\n",
       "    </tr>\n",
       "  </tbody>\n",
       "</table>\n",
       "</div>"
      ],
      "text/plain": [
       "          Domain Modality    Words\n",
       "0   Face-to-face   Spoken   198295\n",
       "1        Fiction  Written    61746\n",
       "2     Government  Written  1329885\n",
       "3        Journal  Written  4821192\n",
       "4        Letters  Written    91318\n",
       "5    Non-fiction  Written   330524\n",
       "6      Technical  Written  3758994\n",
       "7      Telephone   Spoken  3019477\n",
       "8  Travel guides  Written  1012496"
      ]
     },
     "execution_count": 4,
     "metadata": {},
     "output_type": "execute_result"
    }
   ],
   "source": [
    "group"
   ]
  },
  {
   "cell_type": "code",
   "execution_count": null,
   "metadata": {},
   "outputs": [],
   "source": []
  }
 ],
 "metadata": {
  "kernelspec": {
   "display_name": "Python 3",
   "language": "python",
   "name": "python3"
  },
  "language_info": {
   "codemirror_mode": {
    "name": "ipython",
    "version": 3
   },
   "file_extension": ".py",
   "mimetype": "text/x-python",
   "name": "python",
   "nbconvert_exporter": "python",
   "pygments_lexer": "ipython3",
   "version": "3.6.9"
  },
  "toc": {
   "base_numbering": 1,
   "nav_menu": {},
   "number_sections": true,
   "sideBar": true,
   "skip_h1_title": false,
   "title_cell": "Table of Contents",
   "title_sidebar": "Contents",
   "toc_cell": false,
   "toc_position": {},
   "toc_section_display": true,
   "toc_window_display": false
  },
  "varInspector": {
   "cols": {
    "lenName": 16,
    "lenType": 16,
    "lenVar": 40
   },
   "kernels_config": {
    "python": {
     "delete_cmd_postfix": "",
     "delete_cmd_prefix": "del ",
     "library": "var_list.py",
     "varRefreshCmd": "print(var_dic_list())"
    },
    "r": {
     "delete_cmd_postfix": ") ",
     "delete_cmd_prefix": "rm(",
     "library": "var_list.r",
     "varRefreshCmd": "cat(var_dic_list()) "
    }
   },
   "types_to_exclude": [
    "module",
    "function",
    "builtin_function_or_method",
    "instance",
    "_Feature"
   ],
   "window_display": false
  }
 },
 "nbformat": 4,
 "nbformat_minor": 4
}
