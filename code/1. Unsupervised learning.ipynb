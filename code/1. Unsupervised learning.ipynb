{
 "cells": [
  {
   "cell_type": "code",
   "execution_count": 4,
   "metadata": {},
   "outputs": [],
   "source": [
    "# Data-handling imports\n",
    "import pandas as pd\n",
    "import numpy as np\n",
    "\n",
    "# Unsupervised learning imports\n",
    "from sklearn.feature_extraction.text import CountVectorizer\n",
    "from sklearn.metrics import silhouette_score\n",
    "from sklearn.cluster import KMeans\n",
    "\n",
    "# Other libraries\n",
    "import matplotlib.pyplot as plt\n",
    "import spacy\n",
    "nlp = spacy.load('en')"
   ]
  },
  {
   "cell_type": "code",
   "execution_count": 16,
   "metadata": {},
   "outputs": [],
   "source": [
    "essays = pd.read_csv(f\"../data_private/essays_cleaned.csv\")\n",
    "subset = essays[essays[\"essay_set\"] == 3]"
   ]
  },
  {
   "cell_type": "code",
   "execution_count": 19,
   "metadata": {},
   "outputs": [],
   "source": [
    "vs = [nlp(doc).vector for doc in subset[\"essay\"]]"
   ]
  },
  {
   "cell_type": "code",
   "execution_count": 23,
   "metadata": {},
   "outputs": [
    {
     "data": {
      "text/plain": [
       "array([3, 2, 0, ..., 3, 3, 2], dtype=int32)"
      ]
     },
     "execution_count": 23,
     "metadata": {},
     "output_type": "execute_result"
    }
   ],
   "source": [
    "km = KMeans(n_clusters=4)\n",
    "km.fit(vs)"
   ]
  },
  {
   "cell_type": "code",
   "execution_count": 26,
   "metadata": {},
   "outputs": [
    {
     "data": {
      "text/plain": [
       "0.064653285"
      ]
     },
     "execution_count": 26,
     "metadata": {},
     "output_type": "execute_result"
    }
   ],
   "source": [
    "silhouette_score(vs, km.labels_)"
   ]
  },
  {
   "cell_type": "code",
   "execution_count": 20,
   "metadata": {},
   "outputs": [],
   "source": [
    "cvec = CountVectorizer()\n",
    "km = KMeans(n_clusters=4)"
   ]
  },
  {
   "cell_type": "code",
   "execution_count": 17,
   "metadata": {},
   "outputs": [
    {
     "name": "stdout",
     "output_type": "stream",
     "text": [
      "2 0.18391212605712495\n",
      "3 0.17215523338897193\n",
      "4 0.07947583389263332\n",
      "5 0.06158785504594829\n",
      "6 0.021067812820881313\n",
      "7 0.022599428427154036\n",
      "8 0.009359054058705987\n",
      "9 0.006537892000858366\n",
      "10 0.012742022090097211\n",
      "11 0.005983129663664207\n",
      "12 0.0057877483401173\n"
     ]
    },
    {
     "data": {
      "image/png": "[encoded data removed]",
      "text/plain": [
       "<Figure size 432x288 with 1 Axes>"
      ]
     },
     "metadata": {
      "needs_background": "light"
     },
     "output_type": "display_data"
    }
   ],
   "source": [
    "# Essay vectors\n",
    "essay_vecs = cvec.fit_transform(essays[essay][\"essay\"])\n",
    "sils = []\n",
    "for k in range(2, 13):\n",
    "    km_cvec = KMeans(n_clusters=k)\n",
    "    km_cvec.fit(essay_vecs.toarray());\n",
    "    s = silhouette_score(essay_vecs.toarray(), km_cvec.labels_)\n",
    "    print(k, s)\n",
    "    sils.append(s)\n",
    "    \n",
    "plt.plot(range(2, 13), sils);"
   ]
  },
  {
   "cell_type": "code",
   "execution_count": 19,
   "metadata": {},
   "outputs": [
    {
     "name": "stdout",
     "output_type": "stream",
     "text": [
      "2 0.5843647891397729\n",
      "3 0.5027662416577375\n",
      "4 0.4704416762962589\n",
      "5 0.45128298032255587\n",
      "6 0.44345714325331553\n",
      "7 0.4332523989253067\n",
      "8 0.413578805712649\n",
      "9 0.38503655974695433\n",
      "10 0.3852044292800744\n",
      "11 0.3639192965583853\n",
      "12 0.34257059162454223\n"
     ]
    },
    {
     "data": {
      "image/png": "[encoded data removed]",
      "text/plain": [
       "<Figure size 432x288 with 1 Axes>"
      ]
     },
     "metadata": {
      "needs_background": "light"
     },
     "output_type": "display_data"
    }
   ],
   "source": [
    "# Other properties\n",
    "subset = essays[essay].drop(columns=[\"essay_id\", \"essay\", \"essay_set\", \"score\", \"domain1_score\"])\n",
    "km.fit(subset)\n",
    "\n",
    "sils = []\n",
    "for k in range(2, 13):\n",
    "    km = KMeans(n_clusters=k)\n",
    "    km.fit(subset);\n",
    "    s = silhouette_score(subset, km.labels_)\n",
    "    print(k, s)\n",
    "    sils.append(s)\n",
    "    \n",
    "plt.plot(range(2, 13), sils);"
   ]
  },
  {
   "cell_type": "code",
   "execution_count": 7,
   "metadata": {},
   "outputs": [
    {
     "data": {
      "image/png": "[encoded data removed]",
      "text/plain": [
       "<Figure size 432x288 with 4 Axes>"
      ]
     },
     "metadata": {
      "needs_background": "light"
     },
     "output_type": "display_data"
    }
   ],
   "source": [
    "pd.DataFrame({\n",
    "    \"score\": essays[essay][\"score\"],\n",
    "    \"cluster\": km.labels_\n",
    "}).hist(\"score\", by=\"cluster\", sharex=True, sharey=True);"
   ]
  },
  {
   "cell_type": "code",
   "execution_count": null,
   "metadata": {},
   "outputs": [],
   "source": []
  }
 ],
 "metadata": {
  "kernelspec": {
   "display_name": "Python 3",
   "language": "python",
   "name": "python3"
  },
  "language_info": {
   "codemirror_mode": {
    "name": "ipython",
    "version": 3
   },
   "file_extension": ".py",
   "mimetype": "text/x-python",
   "name": "python",
   "nbconvert_exporter": "python",
   "pygments_lexer": "ipython3",
   "version": "3.6.9"
  },
  "toc": {
   "base_numbering": 1,
   "nav_menu": {},
   "number_sections": true,
   "sideBar": true,
   "skip_h1_title": false,
   "title_cell": "Table of Contents",
   "title_sidebar": "Contents",
   "toc_cell": false,
   "toc_position": {},
   "toc_section_display": true,
   "toc_window_display": false
  },
  "varInspector": {
   "cols": {
    "lenName": 16,
    "lenType": 16,
    "lenVar": 40
   },
   "kernels_config": {
    "python": {
     "delete_cmd_postfix": "",
     "delete_cmd_prefix": "del ",
     "library": "var_list.py",
     "varRefreshCmd": "print(var_dic_list())"
    },
    "r": {
     "delete_cmd_postfix": ") ",
     "delete_cmd_prefix": "rm(",
     "library": "var_list.r",
     "varRefreshCmd": "cat(var_dic_list()) "
    }
   },
   "types_to_exclude": [
    "module",
    "function",
    "builtin_function_or_method",
    "instance",
    "_Feature"
   ],
   "window_display": false
  }
 },
 "nbformat": 4,
 "nbformat_minor": 4
}
