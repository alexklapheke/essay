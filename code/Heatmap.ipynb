{
 "cells": [
  {
   "cell_type": "code",
   "execution_count": 74,
   "metadata": {},
   "outputs": [],
   "source": [
    "# Much of this is from <https://stackoverflow.com/a/38887138>\n",
    "\n",
    "import numpy as np\n",
    "import matplotlib.pyplot as plt\n",
    "import plotstyle\n",
    "import seaborn as sns\n",
    "import pandas as pd\n",
    "from matplotlib.colors import LinearSegmentedColormap\n",
    "\n",
    "lim = 100"
   ]
  },
  {
   "cell_type": "code",
   "execution_count": 43,
   "metadata": {},
   "outputs": [],
   "source": [
    "score_colors = [\"#E4CCCF\", \"#C898A0\", \"#AD6570\", \"#913140\"]\n",
    "cmap = LinearSegmentedColormap.from_list(\"score\", score_colors, 4)"
   ]
  },
  {
   "cell_type": "code",
   "execution_count": 2,
   "metadata": {},
   "outputs": [],
   "source": [
    "real = np.array([3, 1, 3, 3, 1, 2, 2, 2, 3, 0, 1, 2, 1, 1, 1, 1, 2, 2, 0, 2, 1, 3, 1, 1, 2, 1, 3, 2, 3, 1, 2, 3, 1, 2, 1, 1, 3, 0, 1, 3, 2, 3, 1, 2, 3, 0, 0, 3, 1, 1, 1, 1, 1, 1, 2, 2, 2, 1, 3, 2, 1, 3, 3, 2, 0, 3, 2, 3, 3, 0, 1, 3, 0, 2, 1, 2, 3, 3, 2, 2, 1, 2, 2, 2, 1, 0, 0, 1, 1, 3, 3, 1, 0, 1, 1, 1, 3, 1, 3, 2, 2, 3, 3, 1, 1, 3, 1, 2, 2, 1, 3, 2, 3, 2, 1, 1, 1, 3, 3, 2, 2, 2, 1, 2, 1, 2, 1, 1, 2, 0, 1, 1, 0, 2, 1, 2, 0, 1, 2, 2, 1, 2, 1, 2, 2, 1, 3, 1, 0, 1, 2, 0, 2, 0, 1, 3, 3, 1, 2, 1, 1, 1, 3, 2, 1, 2, 2, 0, 3, 2, 1, 2, 2, 1, 2, 1, 2, 2, 3, 1, 0, 2, 3, 2, 3, 2, 0, 2, 2, 1, 2, 0, 2, 1, 0, 0, 2, 1, 2, 2, 2, 2, 2, 3, 1, 2, 2, 3, 3, 1, 2, 3, 3, 3, 2, 2, 3, 1, 1, 0, 1, 1, 3, 2, 1, 1, 1, 1, 2, 1, 3, 1, 2, 1, 2, 2, 0, 2, 1, 3, 2, 1, 3, 0, 1, 1, 1, 1, 2, 3, 1, 0, 2, 3, 1, 2, 2, 1, 0, 3, 3, 2, 0, 0, 1, 2, 2, 2, 2, 2, 1, 2, 2, 1, 2, 1, 1, 3, 2, 2, 3, 3, 3, 2, 3, 1, 2, 1, 1, 2, 3, 2, 2, 1, 2, 3, 2, 3, 2, 0, 0, 2, 1, 2, 2, 2, 1, 2, 2, 3, 2, 2, 1, 2, 3, 1, 0, 2, 1, 1, 2, 1, 3, 3, 1, 3, 2, 3, 3, 1, 1, 2, 2, 3, 1, 2, 2, 1, 1, 3, 3, 3, 1, 2, 3, 2, 1, 0, 1, 2, 0, 1, 1, 0, 1, 1, 1, 3, 1, 1, 2, 3, 3, 3, 1, 2, 0, 2, 1, 2, 2, 1, 2, 2, 1, 3, 0, 1, 0, 1, 3, 1, 1, 2, 1, 3, 3, 1, 2, 2, 0, 2, 1, 1, 1, 1, 2, 2, 1, 3, 0, 1, 1, 3, 2, 3, 1, 3, 3, 3, 2, 2, 0, 1, 3, 2, 2, 3, 2, 0, 1, 1, 3, 1, 3, 1, 2, 2, 2, 2, 3, 3, 1, 1, 3, 1, 0, 1, 0, 3, 2, 2, 1, 3, 2, 3, 0, 1, 1, 1, 0, 1, 3, 1, 3, 1, 1, 3, 1, 1, 1, 2, 2, 1, 2, 0, 2, 1, 1, 2, 3, 1, 1, 3, 3, 1, 1, 2, 2, 1, 3, 1, 0, 3, 3, 2, 3, 1, 0, 0, 1, 1, 1, 2, 1, 1, 2, 1, 2, 2, 2, 2, 3, 2, 1, 2, 1, 3, 2, 1, 0, 0, 2, 0, 2, 2, 3, 2, 3, 0, 2, 1, 3, 3, 1, 1, 1, 1, 1, 2, 2, 1, 1, 1, 2, 2, 3, 3, 2, 2, 3, 2, 2, 1, 1, 0, 3, 3, 2, 1, 1, 2, 0, 1, 2, 1, 3, 3, 2, 2, 2, 3, 0, 1, 0, 1, 1, 2, 0, 3, 1, 1, 1, 3, 2, 3, 1, 2, 3, 2, 3, 1, 1, 2, 1, 1, 3, 3, 1, 2, 2, 2, 1, 2, 1, 2, 3, 3, 2, 2, 2, 1, 2, 1, 1, 3, 2, 3, 1, 2, 1, 2, 1, 1, 0, 2, 1, 1, 3, 3, 2, 1, 2, 1, 2, 2, 1, 1, 2, 2, 1, 3, 2, 2, 2, 2, 1, 3, 2, 2, 3, 3, 1, 2, 3, 0, 2, 2, 2, 0, 2, 1, 2, 1, 1, 2, 1, 3, 3, 2, 1, 3, 1, 2, 2, 1, 2, 1, 0, 1, 0, 2, 3, 2, 1, 1, 1, 1, 1, 1, 1, 2, 1, 2, 1, 1, 1, 3, 2, 3, 2, 3, 3, 0, 1, 1, 1, 1, 1, 2, 1, 2, 2, 3, 3, 1, 2, 2, 2, 2, 0, 1, 2, 1, 1, 1, 1, 3, 3, 2, 2, 3, 1, 1, 1, 2, 3, 1, 2, 1, 3, 1, 0, 1, 3, 2, 2, 2, 2, 0, 2, 2, 2, 1, 3, 2, 3, 3, 3, 3, 2, 1, 2, 2, 1, 3, 2, 1, 3, 3, 3, 1, 0, 1, 0, 2, 1, 3, 1, 1, 1, 3, 3, 1, 1, 1, 1, 3, 1, 1, 0, 1, 0, 3, 1, 1, 3, 1, 1, 3, 1, 2, 3, 1, 3, 1, 1, 3, 2, 2, 3, 3, 2, 2, 2, 3, 3, 2, 3, 2, 2, 1, 1, 3, 2, 0, 1, 2, 0, 2, 3, 3, 1, 1, 1, 2, 2, 1, 2, 1, 3, 2, 1, 3, 2, 1, 3, 0, 2, 2, 1, 0, 1, 1, 3, 1, 1, 2, 2, 2, 3, 3, 1, 2, 1, 2, 1, 0, 3, 3, 1, 1, 1, 1, 2, 2, 2, 3, 1, 2, 1, 1, 1, 1])\n",
    "\n",
    "nn   = np.array([3, 2, 2, 2, 1, 1, 3, 2, 3, 1, 1, 1, 3, 1, 1, 2, 2, 1, 1, 2, 2, 3, 3, 1, 2, 1, 2, 3, 3, 1, 2, 3, 2, 2, 1, 1, 3, 1, 1, 3, 1, 3, 1, 2, 2, 1, 1, 2, 1, 1, 1, 1, 2, 1, 3, 2, 2, 1, 3, 2, 1, 3, 3, 2, 1, 3, 2, 2, 3, 2, 1, 2, 1, 1, 1, 2, 1, 2, 2, 1, 1, 1, 2, 2, 1, 2, 1, 1, 1, 2, 1, 1, 2, 1, 1, 1, 3, 1, 2, 1, 2, 3, 2, 1, 1, 3, 2, 3, 2, 2, 2, 2, 3, 1, 1, 1, 1, 2, 2, 1, 2, 1, 2, 3, 1, 2, 1, 1, 1, 2, 2, 1, 1, 2, 2, 1, 1, 1, 2, 2, 2, 2, 1, 2, 2, 1, 3, 1, 1, 1, 2, 1, 2, 1, 1, 3, 2, 1, 2, 1, 2, 1, 2, 2, 2, 2, 3, 1, 3, 3, 1, 1, 2, 1, 2, 1, 1, 2, 2, 1, 1, 3, 3, 2, 2, 2, 2, 3, 2, 2, 2, 1, 1, 2, 1, 1, 2, 2, 1, 2, 2, 2, 2, 3, 1, 2, 2, 3, 3, 1, 2, 3, 3, 2, 3, 2, 2, 1, 1, 1, 1, 1, 3, 2, 1, 1, 1, 1, 2, 2, 3, 1, 2, 1, 3, 2, 3, 2, 1, 3, 2, 1, 2, 1, 2, 2, 1, 1, 2, 3, 1, 1, 2, 3, 1, 2, 2, 2, 1, 2, 3, 2, 1, 3, 1, 2, 2, 2, 2, 2, 1, 1, 2, 1, 1, 2, 2, 3, 2, 3, 3, 2, 3, 1, 2, 1, 2, 1, 1, 1, 3, 2, 2, 1, 2, 2, 3, 3, 2, 1, 1, 2, 1, 1, 2, 3, 1, 2, 2, 2, 1, 2, 1, 2, 3, 1, 1, 2, 1, 1, 2, 1, 2, 2, 1, 3, 2, 2, 3, 2, 2, 2, 2, 3, 1, 3, 2, 1, 2, 2, 2, 3, 2, 2, 2, 2, 1, 1, 1, 2, 1, 1, 1, 1, 2, 1, 1, 2, 1, 3, 1, 2, 2, 3, 1, 2, 1, 1, 3, 1, 2, 1, 2, 2, 2, 2, 1, 2, 1, 1, 3, 1, 1, 2, 3, 3, 3, 2, 2, 2, 1, 2, 1, 1, 1, 1, 1, 2, 1, 3, 1, 1, 1, 3, 2, 3, 1, 2, 3, 3, 2, 2, 1, 2, 2, 2, 1, 3, 2, 1, 1, 1, 3, 1, 2, 1, 3, 3, 2, 2, 3, 3, 1, 1, 3, 1, 1, 1, 1, 3, 1, 1, 1, 3, 3, 2, 1, 1, 1, 1, 1, 1, 3, 1, 3, 1, 1, 2, 1, 1, 1, 2, 2, 3, 3, 1, 3, 1, 2, 2, 2, 1, 1, 2, 3, 1, 1, 2, 1, 1, 3, 2, 2, 2, 1, 2, 3, 1, 1, 2, 1, 1, 1, 1, 1, 1, 2, 2, 2, 2, 2, 1, 2, 1, 1, 2, 1, 2, 1, 1, 1, 1, 3, 1, 2, 3, 2, 2, 1, 1, 1, 1, 3, 2, 1, 2, 1, 1, 1, 1, 2, 1, 1, 1, 2, 2, 1, 3, 2, 3, 2, 3, 2, 2, 1, 1, 1, 3, 3, 2, 2, 2, 1, 1, 2, 1, 2, 2, 2, 2, 2, 3, 1, 1, 1, 2, 1, 2, 1, 3, 1, 2, 1, 2, 2, 2, 2, 2, 3, 2, 2, 1, 1, 1, 1, 1, 3, 3, 1, 1, 2, 2, 1, 3, 1, 2, 3, 3, 1, 2, 2, 1, 2, 2, 1, 2, 2, 3, 2, 2, 2, 2, 1, 1, 1, 2, 1, 1, 2, 2, 2, 2, 1, 2, 3, 2, 1, 1, 2, 3, 2, 3, 1, 2, 2, 2, 1, 2, 2, 2, 3, 3, 1, 2, 3, 1, 3, 2, 3, 1, 2, 1, 2, 1, 1, 2, 1, 3, 3, 2, 1, 2, 3, 2, 2, 1, 2, 1, 1, 1, 1, 2, 3, 1, 1, 1, 1, 2, 1, 1, 1, 3, 2, 2, 1, 1, 1, 3, 2, 2, 3, 3, 3, 1, 1, 1, 1, 1, 2, 1, 1, 2, 2, 3, 3, 1, 2, 2, 1, 2, 1, 1, 1, 2, 1, 1, 1, 2, 2, 2, 2, 3, 1, 1, 1, 1, 2, 1, 2, 1, 2, 1, 1, 1, 3, 2, 2, 2, 1, 1, 3, 1, 2, 2, 2, 2, 2, 3, 3, 2, 3, 1, 2, 3, 1, 3, 2, 2, 2, 3, 2, 1, 1, 2, 1, 2, 1, 2, 1, 1, 1, 3, 2, 1, 1, 2, 1, 3, 2, 1, 1, 1, 2, 3, 2, 1, 3, 1, 1, 2, 2, 2, 3, 2, 3, 1, 1, 3, 1, 2, 2, 2, 1, 2, 1, 3, 2, 2, 2, 1, 2, 1, 2, 2, 2, 1, 1, 2, 2, 2, 3, 2, 1, 1, 1, 2, 2, 1, 1, 3, 3, 1, 1, 3, 2, 1, 3, 1, 2, 2, 2, 1, 2, 1, 3, 1, 1, 2, 3, 1, 2, 3, 1, 2, 1, 1, 1, 1, 2, 2, 1, 1, 1, 1, 2, 2, 1, 2, 1, 1, 1, 1, 2, 1])\n",
    "\n",
    "svm  = np.array([3, 2, 2, 2, 1, 1, 2, 2, 3, 1, 1, 2, 3, 1, 1, 2, 2, 2, 1, 2, 2, 3, 3, 1, 2, 1, 2, 3, 3, 1, 2, 3, 2, 2, 1, 1, 3, 1, 1, 3, 1, 3, 1, 2, 3, 1, 1, 2, 1, 1, 1, 1, 1, 1, 3, 2, 2, 1, 3, 2, 1, 3, 3, 2, 1, 3, 2, 2, 3, 1, 1, 2, 1, 2, 1, 2, 1, 2, 2, 1, 1, 1, 2, 2, 1, 2, 2, 1, 1, 3, 1, 1, 0, 1, 1, 1, 3, 1, 3, 1, 2, 3, 2, 1, 1, 2, 1, 3, 1, 2, 2, 2, 3, 1, 1, 1, 1, 2, 3, 1, 2, 2, 2, 3, 1, 3, 2, 1, 1, 2, 2, 2, 1, 3, 1, 1, 1, 1, 2, 2, 2, 2, 1, 2, 2, 1, 3, 1, 1, 1, 2, 1, 2, 1, 1, 3, 3, 1, 2, 1, 2, 1, 3, 2, 2, 2, 3, 1, 3, 3, 1, 2, 2, 1, 2, 2, 1, 3, 2, 2, 1, 2, 3, 2, 3, 2, 3, 3, 2, 2, 2, 1, 1, 2, 1, 1, 2, 2, 1, 2, 2, 2, 2, 3, 1, 2, 2, 3, 3, 1, 2, 3, 3, 2, 3, 2, 2, 1, 1, 1, 1, 1, 2, 2, 1, 1, 1, 1, 2, 2, 3, 1, 2, 1, 3, 2, 3, 2, 1, 3, 2, 1, 2, 1, 3, 1, 1, 1, 2, 3, 1, 1, 2, 3, 1, 2, 2, 2, 1, 3, 3, 2, 1, 3, 1, 2, 2, 2, 2, 2, 1, 1, 2, 1, 2, 2, 2, 3, 2, 3, 3, 2, 3, 1, 2, 1, 2, 1, 2, 1, 3, 2, 2, 1, 2, 2, 3, 3, 2, 1, 1, 2, 1, 2, 2, 3, 2, 2, 2, 1, 1, 1, 1, 2, 3, 1, 1, 2, 1, 2, 2, 1, 3, 2, 2, 3, 2, 2, 3, 1, 2, 2, 2, 3, 1, 2, 2, 1, 2, 2, 2, 3, 2, 2, 2, 2, 1, 1, 1, 2, 1, 2, 1, 1, 2, 1, 1, 2, 1, 3, 1, 2, 3, 3, 1, 2, 1, 1, 3, 1, 2, 1, 2, 3, 2, 2, 1, 2, 1, 1, 3, 1, 1, 2, 3, 3, 3, 2, 2, 2, 1, 2, 1, 1, 1, 1, 1, 2, 1, 3, 1, 2, 1, 3, 2, 3, 2, 3, 3, 3, 2, 2, 1, 2, 2, 2, 1, 3, 2, 1, 1, 1, 3, 1, 2, 1, 3, 3, 2, 2, 3, 3, 1, 1, 3, 2, 1, 1, 1, 3, 2, 1, 1, 3, 3, 3, 1, 1, 1, 1, 1, 1, 3, 1, 3, 1, 1, 2, 1, 1, 1, 2, 2, 3, 3, 1, 3, 1, 1, 2, 3, 1, 1, 2, 3, 1, 1, 2, 1, 1, 3, 2, 2, 2, 2, 3, 3, 1, 1, 2, 1, 1, 1, 1, 1, 1, 2, 2, 2, 2, 2, 1, 3, 1, 1, 3, 1, 2, 1, 1, 1, 1, 3, 1, 2, 3, 2, 2, 1, 1, 1, 1, 2, 2, 1, 2, 1, 1, 1, 2, 2, 1, 1, 1, 2, 2, 1, 3, 1, 3, 2, 1, 2, 2, 1, 1, 1, 3, 2, 2, 2, 2, 1, 2, 2, 2, 3, 2, 2, 2, 2, 3, 1, 1, 1, 2, 1, 1, 1, 3, 1, 2, 1, 2, 3, 3, 2, 2, 3, 2, 2, 1, 1, 1, 1, 1, 3, 3, 1, 2, 2, 2, 1, 2, 1, 3, 3, 3, 1, 2, 2, 1, 2, 2, 2, 2, 2, 3, 2, 2, 2, 2, 1, 1, 1, 3, 1, 1, 3, 2, 2, 2, 2, 2, 3, 2, 1, 1, 2, 3, 2, 3, 1, 2, 2, 2, 1, 2, 2, 2, 3, 3, 1, 2, 3, 1, 3, 2, 2, 1, 2, 1, 2, 1, 1, 2, 1, 3, 3, 2, 1, 3, 3, 2, 2, 2, 2, 1, 1, 1, 1, 2, 3, 1, 1, 1, 1, 2, 1, 1, 1, 3, 2, 2, 1, 1, 1, 3, 2, 3, 3, 3, 3, 1, 1, 1, 1, 1, 2, 1, 1, 2, 2, 3, 3, 1, 2, 2, 2, 2, 1, 2, 2, 1, 1, 1, 1, 2, 2, 2, 2, 3, 2, 1, 1, 1, 3, 1, 2, 2, 2, 1, 1, 1, 3, 2, 3, 2, 1, 1, 3, 2, 2, 2, 2, 2, 3, 3, 3, 3, 3, 1, 2, 3, 1, 3, 2, 1, 2, 3, 2, 1, 1, 2, 1, 2, 1, 2, 1, 1, 1, 3, 2, 1, 1, 2, 1, 3, 2, 1, 1, 1, 2, 3, 1, 1, 3, 1, 1, 2, 2, 2, 3, 2, 3, 1, 1, 2, 2, 1, 2, 3, 1, 1, 1, 3, 2, 2, 3, 1, 2, 1, 1, 2, 2, 1, 1, 2, 1, 2, 3, 2, 1, 1, 1, 2, 2, 1, 1, 2, 3, 1, 1, 3, 2, 1, 3, 1, 2, 2, 1, 1, 2, 1, 3, 1, 1, 2, 3, 2, 2, 3, 1, 2, 1, 1, 1, 1, 2, 2, 1, 1, 1, 1, 2, 1, 1, 2, 1, 1, 1, 1, 1, 1])"
   ]
  },
  {
   "cell_type": "code",
   "execution_count": 33,
   "metadata": {},
   "outputs": [],
   "source": [
    "df = pd.DataFrame({\n",
    "    \"SVM\": svm,\n",
    "    \"Human\": real,\n",
    "    \"RNN\": nn\n",
    "})"
   ]
  },
  {
   "cell_type": "code",
   "execution_count": 109,
   "metadata": {
    "scrolled": true
   },
   "outputs": [
    {
     "data": {
      "image/png": "[encoded data removed]",
      "text/plain": [
       "<Figure size 864x216 with 2 Axes>"
      ]
     },
     "metadata": {},
     "output_type": "display_data"
    }
   ],
   "source": [
    "# Set canvas size\n",
    "sns.set(rc={'figure.figsize':(12, 3)})\n",
    "\n",
    "colors = sns.color_palette()\n",
    "\n",
    "# Generate heatmap\n",
    "fig = sns.heatmap(df.loc[done:done+lim, :].T,\n",
    "        vmin=0, vmax=3,\n",
    "        xticklabels=[],\n",
    "        cmap=cmap, cbar=True,\n",
    "      cbar_kws = dict(use_gridspec=False,location=\"bottom\",shrink=0.2)\n",
    "        )\n",
    "\n",
    "colorbar = fig.collections[0].colorbar\n",
    "colorbar.set_ticks([0.4,1.1,1.9,2.6])\n",
    "colorbar.set_ticklabels([0,1,2,3])\n",
    "\n",
    "plt.yticks(rotation=0)\n",
    "\n",
    "# Write to disk\n",
    "fig.get_figure().savefig(f\"../graphs/score_heatmap.svg\",\n",
    "                         transparent=True,\n",
    "        bbox_inches=\"tight\",\n",
    "        pad_inches=0)"
   ]
  },
  {
   "cell_type": "code",
   "execution_count": null,
   "metadata": {},
   "outputs": [],
   "source": []
  },
  {
   "cell_type": "code",
   "execution_count": null,
   "metadata": {},
   "outputs": [],
   "source": []
  }
 ],
 "metadata": {
  "kernelspec": {
   "display_name": "Python 3",
   "language": "python",
   "name": "python3"
  },
  "language_info": {
   "codemirror_mode": {
    "name": "ipython",
    "version": 3
   },
   "file_extension": ".py",
   "mimetype": "text/x-python",
   "name": "python",
   "nbconvert_exporter": "python",
   "pygments_lexer": "ipython3",
   "version": "3.6.9"
  },
  "toc": {
   "base_numbering": 1,
   "nav_menu": {},
   "number_sections": true,
   "sideBar": true,
   "skip_h1_title": false,
   "title_cell": "Table of Contents",
   "title_sidebar": "Contents",
   "toc_cell": false,
   "toc_position": {},
   "toc_section_display": true,
   "toc_window_display": false
  },
  "varInspector": {
   "cols": {
    "lenName": 16,
    "lenType": 16,
    "lenVar": 40
   },
   "kernels_config": {
    "python": {
     "delete_cmd_postfix": "",
     "delete_cmd_prefix": "del ",
     "library": "var_list.py",
     "varRefreshCmd": "print(var_dic_list())"
    },
    "r": {
     "delete_cmd_postfix": ") ",
     "delete_cmd_prefix": "rm(",
     "library": "var_list.r",
     "varRefreshCmd": "cat(var_dic_list()) "
    }
   },
   "types_to_exclude": [
    "module",
    "function",
    "builtin_function_or_method",
    "instance",
    "_Feature"
   ],
   "window_display": false
  }
 },
 "nbformat": 4,
 "nbformat_minor": 4
}
