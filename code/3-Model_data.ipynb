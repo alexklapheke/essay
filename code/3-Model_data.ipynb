{
 "cells": [
  {
   "cell_type": "code",
   "execution_count": 103,
   "metadata": {},
   "outputs": [],
   "source": [
    "# Data-handling libraries\n",
    "import pandas as pd\n",
    "import scipy.sparse\n",
    "\n",
    "# Feature extraction/transformation libraries\n",
    "from sklearn.feature_extraction.text import CountVectorizer, TfidfVectorizer\n",
    "from sklearn.preprocessing import StandardScaler\n",
    "from sklearn.linear_model import Lasso, LassoCV\n",
    "from sklearn.decomposition import PCA\n",
    "\n",
    "# Modelling libraries\n",
    "from sklearn.linear_model import LinearRegression\n",
    "from sklearn.model_selection import train_test_split, GridSearchCV\n",
    "from sklearn.naive_bayes import GaussianNB, MultinomialNB\n",
    "from sklearn.svm import SVC\n",
    "from sklearn.ensemble import AdaBoostClassifier, ExtraTreesClassifier\n",
    "\n",
    "from eda.accuracy import multiaccuracy, multiaccuracy_heatmap, fuzzy_accuracy\n",
    "\n",
    "from joblib import dump\n",
    "\n",
    "# Random seed\n",
    "seed = 5777"
   ]
  },
  {
   "cell_type": "markdown",
   "metadata": {},
   "source": [
    "# Import data"
   ]
  },
  {
   "cell_type": "code",
   "execution_count": 2,
   "metadata": {},
   "outputs": [],
   "source": [
    "essays = pd.read_csv(f\"../data_private/essays_cleaned_target.csv\")"
   ]
  },
  {
   "cell_type": "markdown",
   "metadata": {},
   "source": [
    "# Select/extract features"
   ]
  },
  {
   "cell_type": "code",
   "execution_count": 81,
   "metadata": {},
   "outputs": [],
   "source": [
    "X = essays.loc[:, ~essays.columns.str.contains(\"score|domain|trait|essay_id|essay_set\")]\n",
    "y = essays[\"score\"]"
   ]
  },
  {
   "cell_type": "code",
   "execution_count": 86,
   "metadata": {},
   "outputs": [],
   "source": [
    "meta_cols = [\n",
    "    \"tokens\",\n",
    "    \"types\",\n",
    "    \"sent_len\",\n",
    "    \"word_len\",\n",
    "    \"freq\",\n",
    "    \"semicolons\",\n",
    "    \"link_words\",\n",
    "    \"pps\",\n",
    "    \"max_depth\"\n",
    "]\n",
    "X = essays[[*meta_cols, \"essay\"]]"
   ]
  },
  {
   "cell_type": "markdown",
   "metadata": {},
   "source": [
    "## Create train & test sets"
   ]
  },
  {
   "cell_type": "code",
   "execution_count": 87,
   "metadata": {},
   "outputs": [],
   "source": [
    "X_train, X_test, y_train, y_test = train_test_split(X, y, random_state=seed);"
   ]
  },
  {
   "cell_type": "code",
   "execution_count": 90,
   "metadata": {},
   "outputs": [],
   "source": [
    "ss = StandardScaler()\n",
    "X_train_sc = ss.fit_transform(X_train.drop(columns=\"essay\"))\n",
    "X_test_sc = ss.transform(X_test.drop(columns=\"essay\"))\n",
    "\n",
    "pca = PCA(n_components=5)\n",
    "Z_train = pca.fit_transform(X_train_sc)\n",
    "Z_test = pca.transform(X_test_sc)"
   ]
  },
  {
   "cell_type": "code",
   "execution_count": 91,
   "metadata": {},
   "outputs": [
    {
     "data": {
      "text/plain": [
       "array([0.35972875, 0.49291042, 0.6132158 , 0.7243914 , 0.82825638])"
      ]
     },
     "execution_count": 91,
     "metadata": {},
     "output_type": "execute_result"
    }
   ],
   "source": [
    "np.cumsum(pca.explained_variance_ratio_)"
   ]
  },
  {
   "cell_type": "markdown",
   "metadata": {},
   "source": [
    "## Vectorize text"
   ]
  },
  {
   "cell_type": "code",
   "execution_count": null,
   "metadata": {},
   "outputs": [],
   "source": [
    "# cvec = CountVectorizer(\n",
    "#         ngram_range = (1,2),\n",
    "#         min_df = 2, # ignore hapaxes\n",
    "#     )\n",
    "\n",
    "# X_train_cvec = cvec.fit_transform(X_train[\"essay\"]);\n",
    "# X_test_cvec = cvec.transform(X_test[\"essay\"])\n",
    "\n",
    "# X_train_vectorized = np.concatenate([\n",
    "#     X_train.drop(columns=\"essay\").values,\n",
    "#     X_train_cvec.todense()\n",
    "# ], axis=1)\n",
    "\n",
    "# X_test_vectorized = np.concatenate([\n",
    "#     X_test.drop(columns=\"essay\").values,\n",
    "#     X_test_cvec.todense()\n",
    "# ], axis=1)\n",
    "\n",
    "# del X_train, X_test, X_train_cvec, X_test_cvec"
   ]
  },
  {
   "cell_type": "markdown",
   "metadata": {},
   "source": [
    "## Scale data"
   ]
  },
  {
   "cell_type": "code",
   "execution_count": null,
   "metadata": {},
   "outputs": [],
   "source": [
    "# ss = StandardScaler(with_mean=False)\n",
    "# X_train_sc = ss.fit_transform(X_train_vectorized)\n",
    "# X_test_sc = ss.transform(X_test_vectorized)\n",
    "\n",
    "# del X_train_vectorized, X_test_vectorized"
   ]
  },
  {
   "cell_type": "markdown",
   "metadata": {},
   "source": [
    "# Define baseline model"
   ]
  },
  {
   "cell_type": "code",
   "execution_count": 92,
   "metadata": {},
   "outputs": [
    {
     "data": {
      "text/plain": [
       "1.0    0.355549\n",
       "2.0    0.350973\n",
       "3.0    0.193364\n",
       "0.0    0.100114\n",
       "Name: score, dtype: float64"
      ]
     },
     "execution_count": 92,
     "metadata": {},
     "output_type": "execute_result"
    }
   ],
   "source": [
    "y.value_counts(normalize=True)"
   ]
  },
  {
   "cell_type": "markdown",
   "metadata": {},
   "source": [
    "# Fit models"
   ]
  },
  {
   "cell_type": "markdown",
   "metadata": {},
   "source": [
    "## Linear regression"
   ]
  },
  {
   "cell_type": "code",
   "execution_count": 93,
   "metadata": {},
   "outputs": [
    {
     "name": "stdout",
     "output_type": "stream",
     "text": [
      "Train score: 0.553056248508086\n",
      "Test score: 0.5369677595023035\n",
      "CPU times: user 412 ms, sys: 284 ms, total: 695 ms\n",
      "Wall time: 567 ms\n"
     ]
    },
    {
     "data": {
      "text/plain": [
       "<matplotlib.axes._subplots.AxesSubplot at 0x7f0bfcf69940>"
      ]
     },
     "execution_count": 93,
     "metadata": {},
     "output_type": "execute_result"
    },
    {
     "data": {
      "image/png": "[encoded data removed]",
      "text/plain": [
       "<Figure size 432x288 with 2 Axes>"
      ]
     },
     "metadata": {
      "needs_background": "light"
     },
     "output_type": "display_data"
    }
   ],
   "source": [
    "%%time\n",
    "\n",
    "lm = LinearRegression()\n",
    "lm.fit(X_train_sc, y_train)\n",
    "\n",
    "print(\"Train score:\", lm.score(X_train_sc, y_train))\n",
    "print(\"Test score:\", lm.score(X_test_sc, y_test))\n",
    "multiaccuracy_heatmap(y_test, np.round(lm.predict(X_test_sc)));"
   ]
  },
  {
   "cell_type": "code",
   "execution_count": 94,
   "metadata": {},
   "outputs": [
    {
     "name": "stdout",
     "output_type": "stream",
     "text": [
      "Train score: 0.5240383614938562\n",
      "Test score: 0.488347536176994\n",
      "CPU times: user 334 ms, sys: 152 ms, total: 486 ms\n",
      "Wall time: 161 ms\n"
     ]
    },
    {
     "data": {
      "text/plain": [
       "<matplotlib.axes._subplots.AxesSubplot at 0x7f0bf3dd4550>"
      ]
     },
     "execution_count": 94,
     "metadata": {},
     "output_type": "execute_result"
    },
    {
     "data": {
      "image/png": "[encoded data removed]",
      "text/plain": [
       "<Figure size 432x288 with 2 Axes>"
      ]
     },
     "metadata": {
      "needs_background": "light"
     },
     "output_type": "display_data"
    }
   ],
   "source": [
    "%%time\n",
    "\n",
    "lm = LinearRegression()\n",
    "lm.fit(Z_train, y_train)\n",
    "\n",
    "print(\"Train score:\", lm.score(Z_train, y_train))\n",
    "print(\"Test score:\", lm.score(Z_test, y_test))\n",
    "multiaccuracy_heatmap(y_test, np.round(lm.predict(Z_test)));"
   ]
  },
  {
   "cell_type": "markdown",
   "metadata": {},
   "source": [
    "## LASSO"
   ]
  },
  {
   "cell_type": "code",
   "execution_count": 95,
   "metadata": {},
   "outputs": [
    {
     "name": "stdout",
     "output_type": "stream",
     "text": [
      "Winning param: 0.01\n",
      "Train score: 0.5525114875078401\n",
      "Test score: 0.5391850377831603\n",
      "CPU times: user 656 ms, sys: 388 ms, total: 1.04 s\n",
      "Wall time: 411 ms\n"
     ]
    },
    {
     "data": {
      "text/plain": [
       "<matplotlib.axes._subplots.AxesSubplot at 0x7f0bf3f175f8>"
      ]
     },
     "execution_count": 95,
     "metadata": {},
     "output_type": "execute_result"
    },
    {
     "data": {
      "image/png": "[encoded data removed]",
      "text/plain": [
       "<Figure size 432x288 with 2 Axes>"
      ]
     },
     "metadata": {
      "needs_background": "light"
     },
     "output_type": "display_data"
    }
   ],
   "source": [
    "%%time\n",
    "\n",
    "lasso_cv = LassoCV(alphas=[1e-1, 1e-2, 1e-3], cv=5, max_iter=5000)\n",
    "lasso_cv.fit(X_train_sc, y_train);\n",
    "\n",
    "print(\"Winning param:\", lasso_cv.alpha_)\n",
    "print(\"Train score:\", lasso_cv.score(X_train_sc, y_train))\n",
    "print(\"Test score:\", lasso_cv.score(X_test_sc, y_test))\n",
    "multiaccuracy_heatmap(y_test, np.round(lasso_cv.predict(X_test_sc)));"
   ]
  },
  {
   "cell_type": "code",
   "execution_count": 96,
   "metadata": {},
   "outputs": [
    {
     "name": "stdout",
     "output_type": "stream",
     "text": [
      "Winning param: 0.001\n",
      "Train score: 0.5240332557502692\n",
      "Test score: 0.4885091074204009\n",
      "CPU times: user 327 ms, sys: 208 ms, total: 535 ms\n",
      "Wall time: 172 ms\n"
     ]
    },
    {
     "data": {
      "text/plain": [
       "<matplotlib.axes._subplots.AxesSubplot at 0x7f0bfcf401d0>"
      ]
     },
     "execution_count": 96,
     "metadata": {},
     "output_type": "execute_result"
    },
    {
     "data": {
      "image/png": "[encoded data removed]",
      "text/plain": [
       "<Figure size 432x288 with 2 Axes>"
      ]
     },
     "metadata": {
      "needs_background": "light"
     },
     "output_type": "display_data"
    }
   ],
   "source": [
    "%%time\n",
    "\n",
    "lasso_cv = LassoCV(alphas=[1e-1, 1e-2, 1e-3], cv=5, max_iter=5000)\n",
    "lasso_cv.fit(Z_train, y_train);\n",
    "\n",
    "print(\"Winning param:\", lasso_cv.alpha_)\n",
    "print(\"Train score:\", lasso_cv.score(Z_train, y_train))\n",
    "print(\"Test score:\", lasso_cv.score(Z_test, y_test))\n",
    "multiaccuracy_heatmap(y_test, np.round(lasso_cv.predict(Z_test)));"
   ]
  },
  {
   "cell_type": "code",
   "execution_count": 77,
   "metadata": {},
   "outputs": [
    {
     "data": {
      "text/plain": [
       "0.01"
      ]
     },
     "execution_count": 77,
     "metadata": {},
     "output_type": "execute_result"
    }
   ],
   "source": []
  },
  {
   "cell_type": "markdown",
   "metadata": {},
   "source": [
    "## Naïve Bayes"
   ]
  },
  {
   "cell_type": "code",
   "execution_count": 97,
   "metadata": {},
   "outputs": [
    {
     "name": "stdout",
     "output_type": "stream",
     "text": [
      "Train score: 0.6018306636155606\n",
      "Test score: 0.6064073226544623\n",
      "CPU times: user 108 ms, sys: 40 ms, total: 148 ms\n",
      "Wall time: 92 ms\n"
     ]
    },
    {
     "data": {
      "text/plain": [
       "<matplotlib.axes._subplots.AxesSubplot at 0x7f0bfcea6a90>"
      ]
     },
     "execution_count": 97,
     "metadata": {},
     "output_type": "execute_result"
    },
    {
     "data": {
      "image/png": "[encoded data removed]",
      "text/plain": [
       "<Figure size 432x288 with 2 Axes>"
      ]
     },
     "metadata": {
      "needs_background": "light"
     },
     "output_type": "display_data"
    }
   ],
   "source": [
    "%%time\n",
    "\n",
    "gnb = GaussianNB()\n",
    "gnb.fit(X_train_sc, y_train)\n",
    "\n",
    "print(\"Train score:\", gnb.score(X_train_sc, y_train))\n",
    "print(\"Test score:\", gnb.score(X_test_sc, y_test))\n",
    "multiaccuracy_heatmap(y_test, gnb.predict(X_test_sc));"
   ]
  },
  {
   "cell_type": "code",
   "execution_count": 98,
   "metadata": {},
   "outputs": [
    {
     "name": "stdout",
     "output_type": "stream",
     "text": [
      "Train score: 0.5953470633104501\n",
      "Test score: 0.5755148741418764\n",
      "CPU times: user 108 ms, sys: 40 ms, total: 148 ms\n",
      "Wall time: 89.1 ms\n"
     ]
    },
    {
     "data": {
      "text/plain": [
       "<matplotlib.axes._subplots.AxesSubplot at 0x7f0bfce28f98>"
      ]
     },
     "execution_count": 98,
     "metadata": {},
     "output_type": "execute_result"
    },
    {
     "data": {
      "image/png": "[encoded data removed]",
      "text/plain": [
       "<Figure size 432x288 with 2 Axes>"
      ]
     },
     "metadata": {
      "needs_background": "light"
     },
     "output_type": "display_data"
    }
   ],
   "source": [
    "%%time\n",
    "\n",
    "gnb = GaussianNB()\n",
    "gnb.fit(Z_train, y_train)\n",
    "\n",
    "print(\"Train score:\", gnb.score(Z_train, y_train))\n",
    "print(\"Test score:\", gnb.score(Z_test, y_test))\n",
    "multiaccuracy_heatmap(y_test, gnb.predict(Z_test));"
   ]
  },
  {
   "cell_type": "markdown",
   "metadata": {},
   "source": [
    "## Support vector machine"
   ]
  },
  {
   "cell_type": "code",
   "execution_count": 99,
   "metadata": {},
   "outputs": [
    {
     "name": "stdout",
     "output_type": "stream",
     "text": [
      "Winning params: {'C': 1.0}\n",
      "Train score: 0.6636155606407322\n",
      "Test score: 0.6418764302059496\n",
      "CPU times: user 14.8 s, sys: 48.1 ms, total: 14.8 s\n",
      "Wall time: 14.8 s\n"
     ]
    },
    {
     "data": {
      "text/plain": [
       "<matplotlib.axes._subplots.AxesSubplot at 0x7f0bfcdb9160>"
      ]
     },
     "execution_count": 99,
     "metadata": {},
     "output_type": "execute_result"
    },
    {
     "data": {
      "image/png": "[encoded data removed]",
      "text/plain": [
       "<Figure size 432x288 with 2 Axes>"
      ]
     },
     "metadata": {
      "needs_background": "light"
     },
     "output_type": "display_data"
    }
   ],
   "source": [
    "%%time\n",
    "\n",
    "svm = SVC(random_state=seed, kernel=\"rbf\")\n",
    "svmg = GridSearchCV(svm, {\n",
    "    \"C\": np.logspace(0, 2, 10)\n",
    "})\n",
    "svmg.fit(X_train_sc, y_train)\n",
    "\n",
    "print(\"Winning params:\", svmg.best_params_)\n",
    "print(\"Train score:\", svmg.score(X_train_sc, y_train))\n",
    "print(\"Test score:\", svmg.score(X_test_sc, y_test))\n",
    "multiaccuracy_heatmap(y_test, svmg.predict(X_test_sc));"
   ]
  },
  {
   "cell_type": "code",
   "execution_count": 100,
   "metadata": {},
   "outputs": [
    {
     "name": "stdout",
     "output_type": "stream",
     "text": [
      "Train score: 0.6350114416475973\n",
      "Test score: 0.6121281464530892\n",
      "CPU times: user 618 ms, sys: 52 ms, total: 670 ms\n",
      "Wall time: 572 ms\n"
     ]
    },
    {
     "data": {
      "text/plain": [
       "<matplotlib.axes._subplots.AxesSubplot at 0x7f0bf3bb9240>"
      ]
     },
     "execution_count": 100,
     "metadata": {},
     "output_type": "execute_result"
    },
    {
     "data": {
      "image/png": "[encoded data removed]",
      "text/plain": [
       "<Figure size 432x288 with 2 Axes>"
      ]
     },
     "metadata": {
      "needs_background": "light"
     },
     "output_type": "display_data"
    }
   ],
   "source": [
    "%%time\n",
    "\n",
    "svm = SVC(random_state=seed, C=1)\n",
    "svm.fit(Z_train, y_train)\n",
    "\n",
    "print(\"Train score:\", svm.score(Z_train, y_train))\n",
    "print(\"Test score:\", svm.score(Z_test, y_test))\n",
    "multiaccuracy_heatmap(y_test, svm.predict(Z_test));"
   ]
  },
  {
   "cell_type": "markdown",
   "metadata": {},
   "source": [
    "## Extra Trees"
   ]
  },
  {
   "cell_type": "code",
   "execution_count": 101,
   "metadata": {},
   "outputs": [
    {
     "name": "stdout",
     "output_type": "stream",
     "text": [
      "Winning params: {'max_depth': 300, 'n_estimators': 1000}\n",
      "Train score: 0.9996186117467581\n",
      "Test score: 0.6304347826086957\n",
      "CPU times: user 2min 9s, sys: 1.18 s, total: 2min 10s\n",
      "Wall time: 2min 10s\n"
     ]
    },
    {
     "data": {
      "text/plain": [
       "<matplotlib.axes._subplots.AxesSubplot at 0x7f0bf3f49f28>"
      ]
     },
     "execution_count": 101,
     "metadata": {},
     "output_type": "execute_result"
    },
    {
     "data": {
      "image/png": "[encoded data removed]",
      "text/plain": [
       "<Figure size 432x288 with 2 Axes>"
      ]
     },
     "metadata": {
      "needs_background": "light"
     },
     "output_type": "display_data"
    }
   ],
   "source": [
    "%%time\n",
    "\n",
    "ext = ExtraTreesClassifier()\n",
    "extg = GridSearchCV(ext, {\n",
    "    \"n_estimators\": [1000, 2000],\n",
    "    \"max_depth\": [200, 300, 400],\n",
    "})\n",
    "extg.fit(X_train_sc, y_train)\n",
    "\n",
    "print(\"Winning params:\", extg.best_params_)\n",
    "print(\"Train score:\", extg.score(X_train_sc, y_train))\n",
    "print(\"Test score:\", extg.score(X_test_sc, y_test))\n",
    "multiaccuracy_heatmap(y_test, extg.predict(X_test_sc));"
   ]
  },
  {
   "cell_type": "code",
   "execution_count": null,
   "metadata": {},
   "outputs": [],
   "source": [
    "%%time\n",
    "\n",
    "ext = ExtraTreesClassifier()\n",
    "ext.fit(Z_train, y_train)\n",
    "\n",
    "print(\"Train score:\", ext.score(Z_train, y_train))\n",
    "print(\"Test score:\", ext.score(Z_test, y_test))\n",
    "multiaccuracy_heatmap(y_test, ext.predict(Z_test));"
   ]
  },
  {
   "cell_type": "markdown",
   "metadata": {},
   "source": [
    "## AdaBoost"
   ]
  },
  {
   "cell_type": "code",
   "execution_count": 31,
   "metadata": {},
   "outputs": [
    {
     "name": "stdout",
     "output_type": "stream",
     "text": [
      "Train score: 0.581998474446987\n",
      "Test score: 0.580091533180778\n",
      "CPU times: user 1.9 s, sys: 39.5 ms, total: 1.94 s\n",
      "Wall time: 1.83 s\n"
     ]
    },
    {
     "data": {
      "text/plain": [
       "<matplotlib.axes._subplots.AxesSubplot at 0x7f0bf69a6eb8>"
      ]
     },
     "execution_count": 31,
     "metadata": {},
     "output_type": "execute_result"
    },
    {
     "data": {
      "image/png": "[encoded data removed]",
      "text/plain": [
       "<Figure size 432x288 with 2 Axes>"
      ]
     },
     "metadata": {
      "needs_background": "light"
     },
     "output_type": "display_data"
    }
   ],
   "source": [
    "%%time\n",
    "\n",
    "ada = AdaBoostClassifier()\n",
    "ada.fit(X_train_sc, y_train)\n",
    "\n",
    "print(\"Train score:\", ada.score(X_train_sc, y_train))\n",
    "print(\"Test score:\", ada.score(X_test_sc, y_test))\n",
    "multiaccuracy_heatmap(y_test, ada.predict(X_test_sc));"
   ]
  },
  {
   "cell_type": "code",
   "execution_count": 28,
   "metadata": {},
   "outputs": [
    {
     "name": "stdout",
     "output_type": "stream",
     "text": [
      "Train score: 0.5758962623951183\n",
      "Test score: 0.5354691075514875\n",
      "CPU times: user 774 ms, sys: 59 ms, total: 833 ms\n",
      "Wall time: 729 ms\n"
     ]
    },
    {
     "data": {
      "text/plain": [
       "<matplotlib.axes._subplots.AxesSubplot at 0x7f0bf6a3d780>"
      ]
     },
     "execution_count": 28,
     "metadata": {},
     "output_type": "execute_result"
    },
    {
     "data": {
      "image/png": "[encoded data removed]",
      "text/plain": [
       "<Figure size 432x288 with 2 Axes>"
      ]
     },
     "metadata": {
      "needs_background": "light"
     },
     "output_type": "display_data"
    }
   ],
   "source": [
    "%%time\n",
    "\n",
    "ada = AdaBoostClassifier()\n",
    "ada.fit(Z_train, y_train)\n",
    "\n",
    "print(\"Train score:\", ada.score(Z_train, y_train))\n",
    "print(\"Test score:\", ada.score(Z_test, y_test))\n",
    "multiaccuracy_heatmap(y_test, ada.predict(Z_test));"
   ]
  },
  {
   "cell_type": "markdown",
   "metadata": {},
   "source": [
    "# Write out model"
   ]
  },
  {
   "cell_type": "code",
   "execution_count": 105,
   "metadata": {},
   "outputs": [
    {
     "data": {
      "text/plain": [
       "['../EssayScorer/model.svm']"
      ]
     },
     "execution_count": 105,
     "metadata": {},
     "output_type": "execute_result"
    }
   ],
   "source": [
    "dump(svmg, \"../EssayScorer/model.svm\", compress=True)"
   ]
  },
  {
   "cell_type": "code",
   "execution_count": 116,
   "metadata": {},
   "outputs": [
    {
     "data": {
      "text/plain": [
       "1134    3.0\n",
       "2677    1.0\n",
       "1047    3.0\n",
       "1861    3.0\n",
       "1280    1.0\n",
       "       ... \n",
       "2431    2.0\n",
       "2087    1.0\n",
       "854     1.0\n",
       "2058    1.0\n",
       "129     1.0\n",
       "Name: score, Length: 874, dtype: float64"
      ]
     },
     "execution_count": 116,
     "metadata": {},
     "output_type": "execute_result"
    }
   ],
   "source": [
    "y_test"
   ]
  },
  {
   "cell_type": "code",
   "execution_count": 121,
   "metadata": {},
   "outputs": [
    {
     "data": {
      "text/html": [
       "<div>\n",
       "<style scoped>\n",
       "    .dataframe tbody tr th:only-of-type {\n",
       "        vertical-align: middle;\n",
       "    }\n",
       "\n",
       "    .dataframe tbody tr th {\n",
       "        vertical-align: top;\n",
       "    }\n",
       "\n",
       "    .dataframe thead th {\n",
       "        text-align: right;\n",
       "    }\n",
       "</style>\n",
       "<table border=\"1\" class=\"dataframe\">\n",
       "  <thead>\n",
       "    <tr style=\"text-align: right;\">\n",
       "      <th></th>\n",
       "      <th>tokens</th>\n",
       "      <th>types</th>\n",
       "      <th>sent_len</th>\n",
       "      <th>word_len</th>\n",
       "      <th>freq</th>\n",
       "      <th>semicolons</th>\n",
       "      <th>link_words</th>\n",
       "      <th>pps</th>\n",
       "      <th>max_depth</th>\n",
       "      <th>essay</th>\n",
       "    </tr>\n",
       "  </thead>\n",
       "  <tbody>\n",
       "    <tr>\n",
       "      <th>483</th>\n",
       "      <td>74.0</td>\n",
       "      <td>44.0</td>\n",
       "      <td>18.500000</td>\n",
       "      <td>4.027027</td>\n",
       "      <td>78576.0</td>\n",
       "      <td>0.0</td>\n",
       "      <td>0.0</td>\n",
       "      <td>1.067568</td>\n",
       "      <td>6.0</td>\n",
       "      <td>The features of the setting affect the cyclist...</td>\n",
       "    </tr>\n",
       "    <tr>\n",
       "      <th>1690</th>\n",
       "      <td>33.0</td>\n",
       "      <td>24.0</td>\n",
       "      <td>11.000000</td>\n",
       "      <td>3.575758</td>\n",
       "      <td>13519.0</td>\n",
       "      <td>0.0</td>\n",
       "      <td>0.0</td>\n",
       "      <td>1.090909</td>\n",
       "      <td>5.0</td>\n",
       "      <td>He is going on a journey on his bike. He has t...</td>\n",
       "    </tr>\n",
       "    <tr>\n",
       "      <th>819</th>\n",
       "      <td>51.0</td>\n",
       "      <td>32.0</td>\n",
       "      <td>7.285714</td>\n",
       "      <td>3.941176</td>\n",
       "      <td>64460.0</td>\n",
       "      <td>0.0</td>\n",
       "      <td>0.0</td>\n",
       "      <td>1.137255</td>\n",
       "      <td>5.0</td>\n",
       "      <td>Snake, heat, hills-all are what the biker had ...</td>\n",
       "    </tr>\n",
       "    <tr>\n",
       "      <th>2917</th>\n",
       "      <td>17.0</td>\n",
       "      <td>15.0</td>\n",
       "      <td>17.000000</td>\n",
       "      <td>4.117647</td>\n",
       "      <td>1347.0</td>\n",
       "      <td>0.0</td>\n",
       "      <td>0.0</td>\n",
       "      <td>1.058824</td>\n",
       "      <td>5.0</td>\n",
       "      <td>Because she saying when the @CAPS1 grow back s...</td>\n",
       "    </tr>\n",
       "  </tbody>\n",
       "</table>\n",
       "</div>"
      ],
      "text/plain": [
       "      tokens  types   sent_len  word_len     freq  semicolons  link_words  \\\n",
       "483     74.0   44.0  18.500000  4.027027  78576.0         0.0         0.0   \n",
       "1690    33.0   24.0  11.000000  3.575758  13519.0         0.0         0.0   \n",
       "819     51.0   32.0   7.285714  3.941176  64460.0         0.0         0.0   \n",
       "2917    17.0   15.0  17.000000  4.117647   1347.0         0.0         0.0   \n",
       "\n",
       "           pps  max_depth                                              essay  \n",
       "483   1.067568        6.0  The features of the setting affect the cyclist...  \n",
       "1690  1.090909        5.0  He is going on a journey on his bike. He has t...  \n",
       "819   1.137255        5.0  Snake, heat, hills-all are what the biker had ...  \n",
       "2917  1.058824        5.0  Because she saying when the @CAPS1 grow back s...  "
      ]
     },
     "execution_count": 121,
     "metadata": {},
     "output_type": "execute_result"
    }
   ],
   "source": [
    "X_test[(X_test[\"types\"] < 50) & (y_test == 3)]"
   ]
  },
  {
   "cell_type": "code",
   "execution_count": 127,
   "metadata": {},
   "outputs": [
    {
     "data": {
      "text/plain": [
       "'He is going on a journey on his bike. He has to go down hills and deal with the factt that has has no water. That’s basically what the setting is about.'"
      ]
     },
     "execution_count": 127,
     "metadata": {},
     "output_type": "execute_result"
    }
   ],
   "source": [
    "X_test.loc[1690, \"essay\"]"
   ]
  },
  {
   "cell_type": "code",
   "execution_count": null,
   "metadata": {},
   "outputs": [],
   "source": []
  }
 ],
 "metadata": {
  "kernelspec": {
   "display_name": "Python 3",
   "language": "python",
   "name": "python3"
  },
  "language_info": {
   "codemirror_mode": {
    "name": "ipython",
    "version": 3
   },
   "file_extension": ".py",
   "mimetype": "text/x-python",
   "name": "python",
   "nbconvert_exporter": "python",
   "pygments_lexer": "ipython3",
   "version": "3.6.9"
  },
  "toc": {
   "base_numbering": 1,
   "nav_menu": {
    "height": "326px",
    "width": "251px"
   },
   "number_sections": true,
   "sideBar": true,
   "skip_h1_title": false,
   "title_cell": "Table of Contents",
   "title_sidebar": "Contents",
   "toc_cell": false,
   "toc_position": {},
   "toc_section_display": true,
   "toc_window_display": true
  },
  "varInspector": {
   "cols": {
    "lenName": 16,
    "lenType": 16,
    "lenVar": 40
   },
   "kernels_config": {
    "python": {
     "delete_cmd_postfix": "",
     "delete_cmd_prefix": "del ",
     "library": "var_list.py",
     "varRefreshCmd": "print(var_dic_list())"
    },
    "r": {
     "delete_cmd_postfix": ") ",
     "delete_cmd_prefix": "rm(",
     "library": "var_list.r",
     "varRefreshCmd": "cat(var_dic_list()) "
    }
   },
   "position": {
    "height": "565.35px",
    "left": "1137px",
    "right": "20px",
    "top": "106px",
    "width": "514px"
   },
   "types_to_exclude": [
    "module",
    "function",
    "builtin_function_or_method",
    "instance",
    "_Feature"
   ],
   "window_display": false
  }
 },
 "nbformat": 4,
 "nbformat_minor": 4
}
