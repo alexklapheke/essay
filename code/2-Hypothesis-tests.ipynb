{
 "cells": [
  {
   "cell_type": "code",
   "execution_count": 1,
   "metadata": {},
   "outputs": [],
   "source": [
    "# Data-handling libraries\n",
    "import pandas as pd\n",
    "import numpy as np\n",
    "\n",
    "# Statistical libraries\n",
    "from sklearn.linear_model import LinearRegression\n",
    "import statsmodels.api as sm\n",
    "\n",
    "# Graphing libraries\n",
    "import matplotlib.pyplot as plt\n",
    "import plotstyle\n",
    "import seaborn as sns"
   ]
  },
  {
   "cell_type": "markdown",
   "metadata": {},
   "source": [
    "# Read in data"
   ]
  },
  {
   "cell_type": "code",
   "execution_count": 2,
   "metadata": {},
   "outputs": [],
   "source": [
    "essays = pd.read_csv(f\"../data_private/essays_cleaned_target.csv\")"
   ]
  },
  {
   "cell_type": "code",
   "execution_count": 32,
   "metadata": {},
   "outputs": [
    {
     "data": {
      "text/plain": [
       "'In the story, “Rough Road Ahead: Do Not Exceed Posted Speed Limit” written by Joe Kurmaskie, represents how certain conditions can affect a cyclist. The cyclist was biking through the desert to reach Yosemite National Park, but on his journey he accoutered many tough conditions to make it difficult to get there. First of all, the desert was very hot which makes travel very difficult. For example the text states, “the sun was beginning to beat down.” @CAPS1 makes any task difficult because the sun drain’s a person’s energy. Secondly, the trip was very long so the cyclist had a hard time conserving water. For instance, the man drank so much water, he almost ran out; “The water bottle contained only dehydration which can cause death. Joe Kurmaskie’s story, “Rough Road Ahead. Do Not Exceed Posted Speed Limit,” represents how certain conditions of an environment can affect a cyclist.  '"
      ]
     },
     "execution_count": 32,
     "metadata": {},
     "output_type": "execute_result"
    }
   ],
   "source": [
    "essays[essays[\"score\"] == 3][\"essay\"][9]"
   ]
  },
  {
   "cell_type": "code",
   "execution_count": 72,
   "metadata": {},
   "outputs": [
    {
     "data": {
      "text/html": [
       "<table class=\"simpletable\">\n",
       "<caption>Generalized Linear Model Regression Results</caption>\n",
       "<tr>\n",
       "  <th>Dep. Variable:</th>         <td>score</td>      <th>  No. Observations:  </th>  <td>  3496</td> \n",
       "</tr>\n",
       "<tr>\n",
       "  <th>Model:</th>                  <td>GLM</td>       <th>  Df Residuals:      </th>  <td>  3494</td> \n",
       "</tr>\n",
       "<tr>\n",
       "  <th>Model Family:</th>        <td>Gaussian</td>     <th>  Df Model:          </th>  <td>     1</td> \n",
       "</tr>\n",
       "<tr>\n",
       "  <th>Link Function:</th>       <td>identity</td>     <th>  Scale:             </th> <td> 0.39335</td>\n",
       "</tr>\n",
       "<tr>\n",
       "  <th>Method:</th>                <td>IRLS</td>       <th>  Log-Likelihood:    </th> <td> -3328.6</td>\n",
       "</tr>\n",
       "<tr>\n",
       "  <th>Date:</th>            <td>Mon, 08 Jun 2020</td> <th>  Deviance:          </th> <td>  1374.4</td>\n",
       "</tr>\n",
       "<tr>\n",
       "  <th>Time:</th>                <td>17:39:08</td>     <th>  Pearson chi2:      </th> <td>1.37e+03</td>\n",
       "</tr>\n",
       "<tr>\n",
       "  <th>No. Iterations:</th>          <td>3</td>        <th>                     </th>     <td> </td>   \n",
       "</tr>\n",
       "<tr>\n",
       "  <th>Covariance Type:</th>     <td>nonrobust</td>    <th>                     </th>     <td> </td>   \n",
       "</tr>\n",
       "</table>\n",
       "<table class=\"simpletable\">\n",
       "<tr>\n",
       "     <td></td>       <th>coef</th>     <th>std err</th>      <th>z</th>      <th>P>|z|</th>  <th>[0.025</th>    <th>0.975]</th>  \n",
       "</tr>\n",
       "<tr>\n",
       "  <th>const</th>  <td>    0.3904</td> <td>    0.023</td> <td>   17.049</td> <td> 0.000</td> <td>    0.346</td> <td>    0.435</td>\n",
       "</tr>\n",
       "<tr>\n",
       "  <th>tokens</th> <td>    0.0122</td> <td>    0.000</td> <td>   61.452</td> <td> 0.000</td> <td>    0.012</td> <td>    0.013</td>\n",
       "</tr>\n",
       "</table>"
      ],
      "text/plain": [
       "<class 'statsmodels.iolib.summary.Summary'>\n",
       "\"\"\"\n",
       "                 Generalized Linear Model Regression Results                  \n",
       "==============================================================================\n",
       "Dep. Variable:                  score   No. Observations:                 3496\n",
       "Model:                            GLM   Df Residuals:                     3494\n",
       "Model Family:                Gaussian   Df Model:                            1\n",
       "Link Function:               identity   Scale:                         0.39335\n",
       "Method:                          IRLS   Log-Likelihood:                -3328.6\n",
       "Date:                Mon, 08 Jun 2020   Deviance:                       1374.4\n",
       "Time:                        17:39:08   Pearson chi2:                 1.37e+03\n",
       "No. Iterations:                     3                                         \n",
       "Covariance Type:            nonrobust                                         \n",
       "==============================================================================\n",
       "                 coef    std err          z      P>|z|      [0.025      0.975]\n",
       "------------------------------------------------------------------------------\n",
       "const          0.3904      0.023     17.049      0.000       0.346       0.435\n",
       "tokens         0.0122      0.000     61.452      0.000       0.012       0.013\n",
       "==============================================================================\n",
       "\"\"\""
      ]
     },
     "execution_count": 72,
     "metadata": {},
     "output_type": "execute_result"
    }
   ],
   "source": [
    "meta_cols = [\n",
    "    \"tokens\",\n",
    "    \"types\",\n",
    "    \"sent_len\",\n",
    "    \"word_len\",\n",
    "    \"freq\",\n",
    "    \"semicolons\",\n",
    "    \"link_words\",\n",
    "    \"pps\",\n",
    "    \"max_depth\"\n",
    "]\n",
    "\n",
    "X = sm.add_constant(subset[[\"tokens\"]])\n",
    "y = subset[\"score\"]\n",
    "\n",
    "glm = sm.GLM(y, X).fit()\n",
    "glm.summary()"
   ]
  },
  {
   "cell_type": "code",
   "execution_count": 5,
   "metadata": {},
   "outputs": [
    {
     "data": {
      "text/plain": [
       "82.08936025130451"
      ]
     },
     "execution_count": 5,
     "metadata": {},
     "output_type": "execute_result"
    }
   ],
   "source": [
    "1/glm.params[1]"
   ]
  },
  {
   "cell_type": "code",
   "execution_count": 6,
   "metadata": {},
   "outputs": [
    {
     "data": {
      "text/plain": [
       "const     0.390420\n",
       "tokens    0.012182\n",
       "dtype: float64"
      ]
     },
     "execution_count": 6,
     "metadata": {},
     "output_type": "execute_result"
    }
   ],
   "source": [
    "glm.params"
   ]
  },
  {
   "cell_type": "code",
   "execution_count": 7,
   "metadata": {},
   "outputs": [
    {
     "data": {
      "image/png": "[encoded data removed]",
      "text/plain": [
       "<Figure size 288x216 with 1 Axes>"
      ]
     },
     "metadata": {
      "needs_background": "light"
     },
     "output_type": "display_data"
    }
   ],
   "source": [
    "xs = np.arange(1, 220, 1)\n",
    "\n",
    "plt.figure(figsize=(4, 3))\n",
    "plotstyle.setup(\"Every 82 words correspond to a point increase\", \"Word tokens\", \"Score\")\n",
    "plt.yticks([0,1,2,3])\n",
    "plt.scatter(subset[\"tokens\"], subset[\"score\"], color=plotstyle.palette[0], alpha=0.05)\n",
    "plt.plot(xs, xs * glm.params[1] + glm.params[0], linewidth=3, color=plotstyle.palette[1])\n",
    "plt.savefig(\"../graphs/score-length.svg\", transparent=True)"
   ]
  },
  {
   "cell_type": "code",
   "execution_count": 35,
   "metadata": {},
   "outputs": [
    {
     "data": {
      "image/png": "[encoded data removed]",
      "text/plain": [
       "<Figure size 288x216 with 1 Axes>"
      ]
     },
     "metadata": {
      "needs_background": "dark"
     },
     "output_type": "display_data"
    }
   ],
   "source": [
    "fig, ax = plt.subplots(1, 1, figsize=(4, 3))\n",
    "essays.boxplot(\"tokens\", by=\"score\", vert=False, ax=ax, grid=False, whis=(0, 100))\n",
    "plotstyle.setup(\"\", \"Length (words)\", \"Score\", ax=ax)\n",
    "ax.set_yticklabels([0,1,2,3])\n",
    "fig.suptitle(\"\")\n",
    "\n",
    "#ax.plot(xs, xs * glm.params[1] + glm.params[0], linewidth=3, color=plotstyle.palette[1])\n",
    "\n",
    "plt.savefig(\"../graphs/score-length.svg\", transparent=True, bbox_inches=\"tight\")"
   ]
  },
  {
   "cell_type": "code",
   "execution_count": 21,
   "metadata": {},
   "outputs": [
    {
     "data": {
      "text/plain": [
       "['To begin with a feature that affect the cyclist was a lack of water this is shown when the speaker says when I tried a drop or two, it had the flavor of battery acid-thats was one of the biggest factors he had risked. ',\n",
       " 'The features of the setting affect the cyclist in many ways. It made him tired thirsty and he was near exaustion.',\n",
       " ' The features of the setting affect the cyclist because they doubt or lessen his chances for survival, but the cyclist is determined so he survives.',\n",
       " 'If it’s a good day the cyclist will want to rid. If it is a bad day then they will not want to but probably will.',\n",
       " 'He is going on a journey on his bike. He has to go down hills and deal with the factt that has has no water. That’s basically what the setting is about.',\n",
       " 'Reserved need to check keenly',\n",
       " 'Because she saying when the @CAPS1 grow back she will be @CAPS2 to take the test again.']"
      ]
     },
     "execution_count": 21,
     "metadata": {},
     "output_type": "execute_result"
    }
   ],
   "source": [
    "list(essays[(essays[\"score\"] == 3) & (essays[\"tokens\"] < 50)][\"essay\"])"
   ]
  },
  {
   "cell_type": "code",
   "execution_count": 73,
   "metadata": {},
   "outputs": [],
   "source": [
    "from sklearn.preprocessing import PolynomialFeatures\n",
    "pf = PolynomialFeatures(include_bias=False, degree=2, interaction_only=True)\n",
    "X_poly = pf.fit_transform(subset[meta_cols])\n",
    "subset = pd.concat([\n",
    "    subset.reset_index(),\n",
    "    pd.DataFrame(X_poly, columns=pf.get_feature_names(meta_cols))\n",
    "], axis=1)"
   ]
  },
  {
   "cell_type": "code",
   "execution_count": 74,
   "metadata": {},
   "outputs": [
    {
     "data": {
      "text/plain": [
       "domain1_score       1.000000\n",
       "score               1.000000\n",
       "rater1_domain1      0.937417\n",
       "rater2_domain1      0.922974\n",
       "types word_len      0.733261\n",
       "types freq          0.733100\n",
       "types               0.731480\n",
       "types               0.731480\n",
       "freq pps            0.730446\n",
       "word_len pps        0.730113\n",
       "tokens freq         0.729400\n",
       "tokens word_len     0.728287\n",
       "pps                 0.724252\n",
       "pps                 0.724252\n",
       "tokens              0.720707\n",
       "tokens              0.720707\n",
       "tokens types        0.679058\n",
       "types pps           0.678955\n",
       "types max_depth     0.667110\n",
       "tokens max_depth    0.665578\n",
       "Name: score, dtype: float64"
      ]
     },
     "execution_count": 74,
     "metadata": {},
     "output_type": "execute_result"
    }
   ],
   "source": [
    "subset.corr()[\"score\"].sort_values(ascending=False).head(20)"
   ]
  },
  {
   "cell_type": "code",
   "execution_count": 42,
   "metadata": {},
   "outputs": [
    {
     "data": {
      "text/html": [
       "<div>\n",
       "<style scoped>\n",
       "    .dataframe tbody tr th:only-of-type {\n",
       "        vertical-align: middle;\n",
       "    }\n",
       "\n",
       "    .dataframe tbody tr th {\n",
       "        vertical-align: top;\n",
       "    }\n",
       "\n",
       "    .dataframe thead th {\n",
       "        text-align: right;\n",
       "    }\n",
       "</style>\n",
       "<table border=\"1\" class=\"dataframe\">\n",
       "  <thead>\n",
       "    <tr style=\"text-align: right;\">\n",
       "      <th></th>\n",
       "      <th>tokens</th>\n",
       "      <th>types</th>\n",
       "      <th>sent_len</th>\n",
       "      <th>word_len</th>\n",
       "      <th>freq</th>\n",
       "      <th>semicolons</th>\n",
       "      <th>link_words</th>\n",
       "      <th>pps</th>\n",
       "      <th>max_depth</th>\n",
       "    </tr>\n",
       "  </thead>\n",
       "  <tbody>\n",
       "    <tr>\n",
       "      <th>3583</th>\n",
       "      <td>51.0</td>\n",
       "      <td>28.0</td>\n",
       "      <td>17.000000</td>\n",
       "      <td>4.098039</td>\n",
       "      <td>6.871286</td>\n",
       "      <td>0.0</td>\n",
       "      <td>0.0</td>\n",
       "      <td>55.0</td>\n",
       "      <td>5.0</td>\n",
       "    </tr>\n",
       "    <tr>\n",
       "      <th>3584</th>\n",
       "      <td>177.0</td>\n",
       "      <td>97.0</td>\n",
       "      <td>12.642857</td>\n",
       "      <td>4.536723</td>\n",
       "      <td>7.325153</td>\n",
       "      <td>1.0</td>\n",
       "      <td>2.0</td>\n",
       "      <td>215.0</td>\n",
       "      <td>9.0</td>\n",
       "    </tr>\n",
       "    <tr>\n",
       "      <th>3585</th>\n",
       "      <td>97.0</td>\n",
       "      <td>59.0</td>\n",
       "      <td>12.125000</td>\n",
       "      <td>4.195876</td>\n",
       "      <td>6.758722</td>\n",
       "      <td>0.0</td>\n",
       "      <td>0.0</td>\n",
       "      <td>108.0</td>\n",
       "      <td>7.0</td>\n",
       "    </tr>\n",
       "    <tr>\n",
       "      <th>3586</th>\n",
       "      <td>88.0</td>\n",
       "      <td>55.0</td>\n",
       "      <td>14.666667</td>\n",
       "      <td>3.863636</td>\n",
       "      <td>7.702188</td>\n",
       "      <td>0.0</td>\n",
       "      <td>0.0</td>\n",
       "      <td>94.0</td>\n",
       "      <td>6.0</td>\n",
       "    </tr>\n",
       "    <tr>\n",
       "      <th>3587</th>\n",
       "      <td>135.0</td>\n",
       "      <td>67.0</td>\n",
       "      <td>22.500000</td>\n",
       "      <td>4.111111</td>\n",
       "      <td>6.872222</td>\n",
       "      <td>0.0</td>\n",
       "      <td>1.0</td>\n",
       "      <td>149.0</td>\n",
       "      <td>6.0</td>\n",
       "    </tr>\n",
       "    <tr>\n",
       "      <th>...</th>\n",
       "      <td>...</td>\n",
       "      <td>...</td>\n",
       "      <td>...</td>\n",
       "      <td>...</td>\n",
       "      <td>...</td>\n",
       "      <td>...</td>\n",
       "      <td>...</td>\n",
       "      <td>...</td>\n",
       "      <td>...</td>\n",
       "    </tr>\n",
       "    <tr>\n",
       "      <th>7074</th>\n",
       "      <td>82.0</td>\n",
       "      <td>43.0</td>\n",
       "      <td>20.500000</td>\n",
       "      <td>4.219512</td>\n",
       "      <td>5.790873</td>\n",
       "      <td>0.0</td>\n",
       "      <td>0.0</td>\n",
       "      <td>89.0</td>\n",
       "      <td>8.0</td>\n",
       "    </tr>\n",
       "    <tr>\n",
       "      <th>7075</th>\n",
       "      <td>79.0</td>\n",
       "      <td>49.0</td>\n",
       "      <td>13.166667</td>\n",
       "      <td>3.987342</td>\n",
       "      <td>5.564689</td>\n",
       "      <td>0.0</td>\n",
       "      <td>3.0</td>\n",
       "      <td>84.0</td>\n",
       "      <td>5.0</td>\n",
       "    </tr>\n",
       "    <tr>\n",
       "      <th>7076</th>\n",
       "      <td>58.0</td>\n",
       "      <td>35.0</td>\n",
       "      <td>19.333333</td>\n",
       "      <td>4.413793</td>\n",
       "      <td>5.696910</td>\n",
       "      <td>0.0</td>\n",
       "      <td>1.0</td>\n",
       "      <td>66.0</td>\n",
       "      <td>7.0</td>\n",
       "    </tr>\n",
       "    <tr>\n",
       "      <th>7077</th>\n",
       "      <td>39.0</td>\n",
       "      <td>29.0</td>\n",
       "      <td>19.500000</td>\n",
       "      <td>4.384615</td>\n",
       "      <td>6.977415</td>\n",
       "      <td>0.0</td>\n",
       "      <td>0.0</td>\n",
       "      <td>41.0</td>\n",
       "      <td>6.0</td>\n",
       "    </tr>\n",
       "    <tr>\n",
       "      <th>7078</th>\n",
       "      <td>75.0</td>\n",
       "      <td>46.0</td>\n",
       "      <td>15.000000</td>\n",
       "      <td>4.200000</td>\n",
       "      <td>6.736485</td>\n",
       "      <td>0.0</td>\n",
       "      <td>0.0</td>\n",
       "      <td>80.0</td>\n",
       "      <td>6.0</td>\n",
       "    </tr>\n",
       "  </tbody>\n",
       "</table>\n",
       "<p>3496 rows × 9 columns</p>\n",
       "</div>"
      ],
      "text/plain": [
       "      tokens  types   sent_len  word_len      freq  semicolons  link_words  \\\n",
       "3583    51.0   28.0  17.000000  4.098039  6.871286         0.0         0.0   \n",
       "3584   177.0   97.0  12.642857  4.536723  7.325153         1.0         2.0   \n",
       "3585    97.0   59.0  12.125000  4.195876  6.758722         0.0         0.0   \n",
       "3586    88.0   55.0  14.666667  3.863636  7.702188         0.0         0.0   \n",
       "3587   135.0   67.0  22.500000  4.111111  6.872222         0.0         1.0   \n",
       "...      ...    ...        ...       ...       ...         ...         ...   \n",
       "7074    82.0   43.0  20.500000  4.219512  5.790873         0.0         0.0   \n",
       "7075    79.0   49.0  13.166667  3.987342  5.564689         0.0         3.0   \n",
       "7076    58.0   35.0  19.333333  4.413793  5.696910         0.0         1.0   \n",
       "7077    39.0   29.0  19.500000  4.384615  6.977415         0.0         0.0   \n",
       "7078    75.0   46.0  15.000000  4.200000  6.736485         0.0         0.0   \n",
       "\n",
       "        pps  max_depth  \n",
       "3583   55.0        5.0  \n",
       "3584  215.0        9.0  \n",
       "3585  108.0        7.0  \n",
       "3586   94.0        6.0  \n",
       "3587  149.0        6.0  \n",
       "...     ...        ...  \n",
       "7074   89.0        8.0  \n",
       "7075   84.0        5.0  \n",
       "7076   66.0        7.0  \n",
       "7077   41.0        6.0  \n",
       "7078   80.0        6.0  \n",
       "\n",
       "[3496 rows x 9 columns]"
      ]
     },
     "execution_count": 42,
     "metadata": {},
     "output_type": "execute_result"
    }
   ],
   "source": [
    "subset[meta_cols]"
   ]
  },
  {
   "cell_type": "code",
   "execution_count": 35,
   "metadata": {},
   "outputs": [
    {
     "data": {
      "text/plain": [
       "(3496, 113)"
      ]
     },
     "execution_count": 35,
     "metadata": {},
     "output_type": "execute_result"
    }
   ],
   "source": [
    "subset.shape"
   ]
  },
  {
   "cell_type": "code",
   "execution_count": null,
   "metadata": {},
   "outputs": [],
   "source": []
  }
 ],
 "metadata": {
  "kernelspec": {
   "display_name": "Python 3",
   "language": "python",
   "name": "python3"
  },
  "language_info": {
   "codemirror_mode": {
    "name": "ipython",
    "version": 3
   },
   "file_extension": ".py",
   "mimetype": "text/x-python",
   "name": "python",
   "nbconvert_exporter": "python",
   "pygments_lexer": "ipython3",
   "version": "3.6.9"
  },
  "toc": {
   "base_numbering": 1,
   "nav_menu": {},
   "number_sections": true,
   "sideBar": true,
   "skip_h1_title": false,
   "title_cell": "Table of Contents",
   "title_sidebar": "Contents",
   "toc_cell": false,
   "toc_position": {},
   "toc_section_display": true,
   "toc_window_display": false
  },
  "varInspector": {
   "cols": {
    "lenName": 16,
    "lenType": 16,
    "lenVar": 40
   },
   "kernels_config": {
    "python": {
     "delete_cmd_postfix": "",
     "delete_cmd_prefix": "del ",
     "library": "var_list.py",
     "varRefreshCmd": "print(var_dic_list())"
    },
    "r": {
     "delete_cmd_postfix": ") ",
     "delete_cmd_prefix": "rm(",
     "library": "var_list.r",
     "varRefreshCmd": "cat(var_dic_list()) "
    }
   },
   "types_to_exclude": [
    "module",
    "function",
    "builtin_function_or_method",
    "instance",
    "_Feature"
   ],
   "window_display": false
  }
 },
 "nbformat": 4,
 "nbformat_minor": 4
}
