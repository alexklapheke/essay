{
 "cells": [
  {
   "cell_type": "code",
   "execution_count": 1,
   "metadata": {},
   "outputs": [],
   "source": [
    "# Data-handling libraries\n",
    "import pandas as pd\n",
    "import scipy.sparse\n",
    "\n",
    "# Feature extraction/transformation libraries\n",
    "from sklearn.feature_extraction.text import CountVectorizer, TfidfVectorizer\n",
    "from sklearn.preprocessing import StandardScaler\n",
    "from sklearn.linear_model import Lasso, LassoCV\n",
    "from sklearn.decomposition import PCA\n",
    "\n",
    "# Modelling libraries\n",
    "from sklearn.linear_model import LinearRegression\n",
    "from sklearn.model_selection import train_test_split, GridSearchCV\n",
    "from sklearn.naive_bayes import GaussianNB, MultinomialNB\n",
    "from sklearn.svm import SVC\n",
    "from sklearn.ensemble import AdaBoostClassifier\n",
    "\n",
    "from eda.accuracy import multiaccuracy, multiaccuracy_heatmap, fuzzy_accuracy\n",
    "from sklearn.metrics import cohen_kappa_score\n",
    "\n",
    "# Random seed\n",
    "seed = 5777"
   ]
  },
  {
   "cell_type": "markdown",
   "metadata": {},
   "source": [
    "# Import data"
   ]
  },
  {
   "cell_type": "code",
   "execution_count": 2,
   "metadata": {},
   "outputs": [],
   "source": [
    "essays = pd.read_csv(f\"../data_private/essays_cleaned.csv\")"
   ]
  },
  {
   "cell_type": "markdown",
   "metadata": {},
   "source": [
    "# Select/extract features"
   ]
  },
  {
   "cell_type": "code",
   "execution_count": 3,
   "metadata": {},
   "outputs": [
    {
     "data": {
      "text/plain": [
       "1.0    0.355549\n",
       "2.0    0.350973\n",
       "3.0    0.193364\n",
       "0.0    0.100114\n",
       "Name: score, dtype: float64"
      ]
     },
     "execution_count": 3,
     "metadata": {},
     "output_type": "execute_result"
    }
   ],
   "source": [
    "target_set = essays[(essays[\"essay_set\"] == 3) | (essays[\"essay_set\"] == 4)]\n",
    "\n",
    "X = target_set.drop(columns=[\"score\", \"essay_id\", \"essay_set\", \"domain1_score\", \"rater1_domain1\", \"rater2_domain1\"])\n",
    "y = target_set[\"score\"]\n",
    "\n",
    "y.value_counts(normalize=True)"
   ]
  },
  {
   "cell_type": "markdown",
   "metadata": {},
   "source": [
    "## Create train & test sets"
   ]
  },
  {
   "cell_type": "code",
   "execution_count": 4,
   "metadata": {},
   "outputs": [],
   "source": [
    "X_train, X_test, y_train, y_test = train_test_split(X, y, random_state=seed);"
   ]
  },
  {
   "cell_type": "code",
   "execution_count": 5,
   "metadata": {},
   "outputs": [],
   "source": [
    "ss = StandardScaler()\n",
    "X_train_sc = ss.fit_transform(X_train.drop(columns=\"essay\"))\n",
    "X_test_sc = ss.transform(X_test.drop(columns=\"essay\"))\n",
    "\n",
    "pca = PCA(n_components=15)\n",
    "Z_train = pca.fit_transform(X_train_sc)\n",
    "Z_test = pca.transform(X_test_sc)"
   ]
  },
  {
   "cell_type": "markdown",
   "metadata": {},
   "source": [
    "## Vectorize text"
   ]
  },
  {
   "cell_type": "code",
   "execution_count": 6,
   "metadata": {},
   "outputs": [],
   "source": [
    "cvec = CountVectorizer(\n",
    "        ngram_range = (1,2),\n",
    "        min_df = 2, # ignore hapaxes\n",
    "    )\n",
    "\n",
    "X_train_cvec = cvec.fit_transform(X_train[\"essay\"]);\n",
    "X_test_cvec = cvec.transform(X_test[\"essay\"])\n",
    "\n",
    "X_train_vectorized = np.concatenate([\n",
    "    X_train.drop(columns=\"essay\").values,\n",
    "    X_train_cvec.todense()\n",
    "], axis=1)\n",
    "\n",
    "X_test_vectorized = np.concatenate([\n",
    "    X_test.drop(columns=\"essay\").values,\n",
    "    X_test_cvec.todense()\n",
    "], axis=1)\n",
    "\n",
    "del X_train, X_test, X_train_cvec, X_test_cvec"
   ]
  },
  {
   "cell_type": "markdown",
   "metadata": {},
   "source": [
    "## Scale data"
   ]
  },
  {
   "cell_type": "code",
   "execution_count": 7,
   "metadata": {},
   "outputs": [],
   "source": [
    "ss = StandardScaler(with_mean=False)\n",
    "X_train_sc = ss.fit_transform(X_train_vectorized)\n",
    "X_test_sc = ss.transform(X_test_vectorized)\n",
    "\n",
    "del X_train_vectorized, X_test_vectorized"
   ]
  },
  {
   "cell_type": "markdown",
   "metadata": {},
   "source": [
    "# Fit models"
   ]
  },
  {
   "cell_type": "code",
   "execution_count": 8,
   "metadata": {},
   "outputs": [
    {
     "name": "stdout",
     "output_type": "stream",
     "text": [
      "Train score: 0.551790928593054\n",
      "Test score: 0.5254384553931242\n",
      "CPU times: user 4.81 ms, sys: 10.9 ms, total: 15.7 ms\n",
      "Wall time: 8 ms\n"
     ]
    }
   ],
   "source": [
    "%%time\n",
    "\n",
    "lm = LinearRegression()\n",
    "lm.fit(Z_train, y_train)\n",
    "\n",
    "print(\"Train score:\", lm.score(Z_train, y_train))\n",
    "print(\"Test score:\", lm.score(Z_test, y_test))"
   ]
  },
  {
   "cell_type": "code",
   "execution_count": 19,
   "metadata": {},
   "outputs": [],
   "source": [
    "def cohens_kappa(y_true, y_pred):\n",
    "    \"\"\"Calculates Cohen's kappa.\"\"\"\n",
    "    assert len(y_true) == len(y_pred), \"Arrays must be the same length.\"\n",
    "\n",
    "    cats = set(y_true) | set(y_pred)\n",
    "\n",
    "    y_true = np.array(y_true)\n",
    "    y_pred = np.array(y_pred)\n",
    "\n",
    "    p_a = np.mean(y_true == y_pred)\n",
    "    p_e = np.sum([np.mean(y_true == cat) *\n",
    "                  np.mean(y_pred == cat)\n",
    "                  for cat in cats])\n",
    "    print([np.mean(y_true == cat)\n",
    "                  for cat in cats])\n",
    "\n",
    "    return (p_a - p_e) / (1 - p_e)\n",
    "\n"
   ]
  },
  {
   "cell_type": "code",
   "execution_count": 20,
   "metadata": {},
   "outputs": [
    {
     "name": "stdout",
     "output_type": "stream",
     "text": [
      "Train score: 0.589626239511823\n",
      "Test score: 0.602974828375286\n",
      "[0.08924485125858124, 0.36155606407322655, 0.32723112128146453, 0.2219679633867277]\n",
      "0.4322933045809186\n",
      "0.43229330458091864\n",
      "CPU times: user 14.2 ms, sys: 0 ns, total: 14.2 ms\n",
      "Wall time: 13.1 ms\n"
     ]
    }
   ],
   "source": [
    "%%time\n",
    "\n",
    "gnb = GaussianNB()\n",
    "gnb.fit(Z_train, y_train)\n",
    "\n",
    "print(\"Train score:\", gnb.score(Z_train, y_train))\n",
    "print(\"Test score:\", gnb.score(Z_test, y_test))\n",
    "\n",
    "# multiaccuracy_heatmap(y_test, gnb.predict(Z_test));\n",
    "print(cohens_kappa(y_test, gnb.predict(Z_test)))\n",
    "print(cohen_kappa_score(y_test, gnb.predict(Z_test)))"
   ]
  },
  {
   "cell_type": "code",
   "execution_count": null,
   "metadata": {},
   "outputs": [],
   "source": [
    "%%time\n",
    "\n",
    "svm = SVC(random_state=seed)\n",
    "svm.fit(X_train_sc, y_train)\n",
    "\n",
    "print(\"Train score:\", svm.score(X_train_sc, y_train))\n",
    "print(\"Test score:\", svm.score(X_test_sc, y_test))\n",
    "multiaccuracy_heatmap(y_test, svm.predict(Z_test));"
   ]
  },
  {
   "cell_type": "code",
   "execution_count": 14,
   "metadata": {},
   "outputs": [
    {
     "name": "stdout",
     "output_type": "stream",
     "text": [
      "Train score: 0.5869565217391305\n",
      "Test score: 0.5469107551487414\n",
      "CPU times: user 572 ms, sys: 31 ms, total: 603 ms\n",
      "Wall time: 500 ms\n"
     ]
    },
    {
     "data": {
      "text/plain": [
       "<matplotlib.axes._subplots.AxesSubplot at 0x7fb4006716d8>"
      ]
     },
     "execution_count": 14,
     "metadata": {},
     "output_type": "execute_result"
    },
    {
     "data": {
      "image/png": "[encoded data removed]",
      "text/plain": [
       "<Figure size 432x288 with 2 Axes>"
      ]
     },
     "metadata": {
      "needs_background": "light"
     },
     "output_type": "display_data"
    }
   ],
   "source": [
    "%%time\n",
    "\n",
    "ada = AdaBoostClassifier()\n",
    "ada.fit(Z_train, y_train)\n",
    "\n",
    "print(\"Train score:\", ada.score(Z_train, y_train))\n",
    "print(\"Test score:\", ada.score(Z_test, y_test))\n",
    "multiaccuracy_heatmap(y_test, ada.predict(Z_test));"
   ]
  },
  {
   "cell_type": "code",
   "execution_count": null,
   "metadata": {},
   "outputs": [],
   "source": [
    "%%time\n",
    "\n",
    "# Set up a list of Lasso alphas to check.\n",
    "l_alphas = np.logspace(-5, -3, 10)\n",
    "\n",
    "# Cross-validate over our list of Lasso alphas.\n",
    "lasso_cv = LassoCV(alphas=l_alphas, cv=5, max_iter=5000)\n",
    "\n",
    "# Fit model using best ridge alpha!\n",
    "lasso_cv.fit(X_train_sc, y_train);"
   ]
  },
  {
   "cell_type": "code",
   "execution_count": null,
   "metadata": {},
   "outputs": [],
   "source": [
    "print(lasso_cv.score(X_train_sc, y_train))\n",
    "print(lasso_cv.score(X_test_sc, y_test))"
   ]
  },
  {
   "cell_type": "code",
   "execution_count": null,
   "metadata": {},
   "outputs": [],
   "source": [
    "coefs = pd.DataFrame({\n",
    "    \"word\": list(X.drop(\"essay\", axis=1).columns) +\n",
    "            cvec.get_feature_names(),\n",
    "    \"coef\": lasso_cv.coef_\n",
    "})\n",
    "coefs = coefs[coefs[\"coef\"] != 0]"
   ]
  },
  {
   "cell_type": "markdown",
   "metadata": {},
   "source": [
    "# Evaluate models"
   ]
  },
  {
   "cell_type": "code",
   "execution_count": null,
   "metadata": {},
   "outputs": [],
   "source": [
    "coefs.sort_values(\"coef\", ascending=False).head(20)"
   ]
  },
  {
   "cell_type": "code",
   "execution_count": null,
   "metadata": {},
   "outputs": [],
   "source": [
    "target_set[target_set[\"essay\"].str.contains(\"hibiscus\")][\"essay\"]"
   ]
  },
  {
   "cell_type": "code",
   "execution_count": null,
   "metadata": {},
   "outputs": [],
   "source": []
  }
 ],
 "metadata": {
  "kernelspec": {
   "display_name": "Python 3",
   "language": "python",
   "name": "python3"
  },
  "language_info": {
   "codemirror_mode": {
    "name": "ipython",
    "version": 3
   },
   "file_extension": ".py",
   "mimetype": "text/x-python",
   "name": "python",
   "nbconvert_exporter": "python",
   "pygments_lexer": "ipython3",
   "version": "3.6.9"
  },
  "toc": {
   "base_numbering": 1,
   "nav_menu": {
    "height": "326px",
    "width": "251px"
   },
   "number_sections": true,
   "sideBar": true,
   "skip_h1_title": false,
   "title_cell": "Table of Contents",
   "title_sidebar": "Contents",
   "toc_cell": false,
   "toc_position": {},
   "toc_section_display": true,
   "toc_window_display": true
  },
  "varInspector": {
   "cols": {
    "lenName": 16,
    "lenType": 16,
    "lenVar": 40
   },
   "kernels_config": {
    "python": {
     "delete_cmd_postfix": "",
     "delete_cmd_prefix": "del ",
     "library": "var_list.py",
     "varRefreshCmd": "print(var_dic_list())"
    },
    "r": {
     "delete_cmd_postfix": ") ",
     "delete_cmd_prefix": "rm(",
     "library": "var_list.r",
     "varRefreshCmd": "cat(var_dic_list()) "
    }
   },
   "position": {
    "height": "565.35px",
    "left": "1137px",
    "right": "20px",
    "top": "106px",
    "width": "514px"
   },
   "types_to_exclude": [
    "module",
    "function",
    "builtin_function_or_method",
    "instance",
    "_Feature"
   ],
   "window_display": false
  }
 },
 "nbformat": 4,
 "nbformat_minor": 4
}
