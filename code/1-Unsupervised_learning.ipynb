{
 "cells": [
  {
   "cell_type": "code",
   "execution_count": 1,
   "metadata": {},
   "outputs": [],
   "source": [
    "# Data-handling imports\n",
    "import pandas as pd\n",
    "import numpy as np\n",
    "\n",
    "# Unsupervised learning imports\n",
    "from sklearn.feature_extraction.text import CountVectorizer\n",
    "from sklearn.metrics import silhouette_score\n",
    "from sklearn.cluster import KMeans\n",
    "\n",
    "# Other libraries\n",
    "import matplotlib.pyplot as plt\n",
    "import plotstyle\n",
    "import spacy\n",
    "nlp = spacy.load('en')\n",
    "\n",
    "# Options\n",
    "seed = 5777"
   ]
  },
  {
   "cell_type": "markdown",
   "metadata": {},
   "source": [
    "# Read in data"
   ]
  },
  {
   "cell_type": "code",
   "execution_count": 2,
   "metadata": {},
   "outputs": [],
   "source": [
    "essays = pd.read_csv(f\"../data_private/essays_cleaned_target.csv\")"
   ]
  },
  {
   "cell_type": "markdown",
   "metadata": {},
   "source": [
    "# Cluster analyses"
   ]
  },
  {
   "cell_type": "markdown",
   "metadata": {},
   "source": [
    "## $k$-Means on document vectors"
   ]
  },
  {
   "cell_type": "markdown",
   "metadata": {},
   "source": [
    "### Run"
   ]
  },
  {
   "cell_type": "code",
   "execution_count": 3,
   "metadata": {},
   "outputs": [
    {
     "data": {
      "text/plain": [
       "KMeans(n_clusters=4, random_state=5777)"
      ]
     },
     "execution_count": 3,
     "metadata": {},
     "output_type": "execute_result"
    }
   ],
   "source": [
    "vs = [nlp(doc).vector for doc in essays[\"essay\"]]\n",
    "km_vec = KMeans(n_clusters=4, random_state=seed)\n",
    "km_vec.fit(vs)"
   ]
  },
  {
   "cell_type": "markdown",
   "metadata": {},
   "source": [
    "### Evaluate"
   ]
  },
  {
   "cell_type": "code",
   "execution_count": 4,
   "metadata": {},
   "outputs": [],
   "source": [
    "sil_vec = silhouette_score(vs, km_vec.labels_)"
   ]
  },
  {
   "cell_type": "code",
   "execution_count": 17,
   "metadata": {},
   "outputs": [
    {
     "data": {
      "image/png": "[encoded data removed]",
      "text/plain": [
       "<Figure size 288x216 with 1 Axes>"
      ]
     },
     "metadata": {
      "needs_background": "dark"
     },
     "output_type": "display_data"
    }
   ],
   "source": [
    "fig, ax = plt.subplots(1, 1, figsize=(4, 3))\n",
    "plotstyle.setup(\"Document vector clusters\", \"\", \"\", xformat=\"{x:,.0f}\", ax=ax)\n",
    "\n",
    "df = pd.DataFrame({\n",
    "    \"score\": essays[\"score\"],\n",
    "    \"cluster\": km_vec.labels_,\n",
    "    \"count\": 1\n",
    "})\n",
    "totals = df.groupby([\"cluster\"]).count()\n",
    "df = df.groupby([\"cluster\", \"score\"]).count().reset_index()\n",
    "df[\"cluster_total\"] = df[\"cluster\"].map(totals[\"score\"])\n",
    "df[\"prop\"] = df[\"count\"] / df[\"cluster_total\"]\n",
    "\n",
    "df.pivot(\"cluster\", \"score\", \"prop\").plot.bar(stacked=True, ax=ax,\n",
    "                                              color=[\n",
    "                                                  \"#E4CCCF\",\n",
    "                                                  \"#C898A0\",\n",
    "                                                  \"#AD6570\",\n",
    "                                                  \"#913140\"\n",
    "                                              ]);\n",
    "ax.set_xlabel(\"Silhouette score: {:.2f}\".format(sil_vec))\n",
    "ax.set_xticklabels([])\n",
    "ax.set_yticklabels([\"0%\", \"\", \"\", \"\", \"\", \"100%\"])\n",
    "plt.legend([0,1,2,3], framealpha=1, frameon=False, loc=(1,0), title=\"Score\")\n",
    "plt.xticks(rotation=0)\n",
    "plt.savefig(\"../graphs/cluster-vec.svg\", transparent=True, bbox_inches=\"tight\")"
   ]
  },
  {
   "cell_type": "markdown",
   "metadata": {},
   "source": [
    "## $k$-Means on metadata"
   ]
  },
  {
   "cell_type": "markdown",
   "metadata": {},
   "source": [
    "### Run"
   ]
  },
  {
   "cell_type": "code",
   "execution_count": 6,
   "metadata": {},
   "outputs": [
    {
     "data": {
      "text/plain": [
       "KMeans(n_clusters=4, random_state=5777)"
      ]
     },
     "execution_count": 6,
     "metadata": {},
     "output_type": "execute_result"
    }
   ],
   "source": [
    "meta_cols = [\n",
    "    \"tokens\",\n",
    "    \"types\",\n",
    "    \"sent_len\",\n",
    "    \"word_len\",\n",
    "    \"freq\",\n",
    "    \"semicolons\",\n",
    "    \"link_words\",\n",
    "    \"pps\",\n",
    "    \"max_depth\"\n",
    "]\n",
    "km_meta = KMeans(n_clusters=4, random_state=seed)\n",
    "km_meta.fit(essays[meta_cols])"
   ]
  },
  {
   "cell_type": "markdown",
   "metadata": {},
   "source": [
    "### Evaluate"
   ]
  },
  {
   "cell_type": "code",
   "execution_count": 7,
   "metadata": {},
   "outputs": [],
   "source": [
    "sil_meta = silhouette_score(essays[meta_cols], km_meta.labels_)"
   ]
  },
  {
   "cell_type": "code",
   "execution_count": 18,
   "metadata": {},
   "outputs": [
    {
     "data": {
      "image/png": "[encoded data removed]",
      "text/plain": [
       "<Figure size 288x216 with 1 Axes>"
      ]
     },
     "metadata": {
      "needs_background": "dark"
     },
     "output_type": "display_data"
    }
   ],
   "source": [
    "fig, ax = plt.subplots(1, 1, figsize=(4, 3))\n",
    "plotstyle.setup(\"Metadata clusters\", \"Cluster\", \"\", xformat=\"{x:,.0f}\", ax=ax)\n",
    "\n",
    "df = pd.DataFrame({\n",
    "    \"score\": essays[\"score\"],\n",
    "    \"cluster\": km_meta.labels_,\n",
    "    \"count\": 1\n",
    "})\n",
    "totals = df.groupby([\"cluster\"]).count()\n",
    "df = df.groupby([\"cluster\", \"score\"]).count().reset_index()\n",
    "df[\"cluster_total\"] = df[\"cluster\"].map(totals[\"score\"])\n",
    "df[\"prop\"] = df[\"count\"] / df[\"cluster_total\"]\n",
    "\n",
    "df.pivot(\"cluster\", \"score\", \"prop\").plot.bar(stacked=True, ax=ax,\n",
    "                                              color=[\n",
    "                                                  \"#E4CCCF\",\n",
    "                                                  \"#C898A0\",\n",
    "                                                  \"#AD6570\",\n",
    "                                                  \"#913140\"\n",
    "                                              ]);\n",
    "ax.set_xlabel(\"Silhouette score: {:.2f}\".format(sil_meta))\n",
    "ax.set_xticklabels([])\n",
    "ax.set_yticklabels([\"0%\", \"\", \"\", \"\", \"\", \"100%\"])\n",
    "#plt.legend([0,1,2,3], framealpha=1, frameon=False, loc=(1,0), title=\"Score\")\n",
    "ax.get_legend().remove()\n",
    "plt.xticks(rotation=0)\n",
    "plt.savefig(\"../graphs/cluster-meta.svg\", transparent=True, bbox_inches=\"tight\")"
   ]
  },
  {
   "cell_type": "markdown",
   "metadata": {},
   "source": [
    "# Write out data"
   ]
  },
  {
   "cell_type": "code",
   "execution_count": 9,
   "metadata": {},
   "outputs": [],
   "source": [
    "# Add metadata clusters, which may be of interest when modeling\n",
    "essays[\"cluster\"] = km_meta.labels_\n",
    "essays.to_csv(\"../data_private/essays_cleaned_target.csv\", index=False)"
   ]
  }
 ],
 "metadata": {
  "kernelspec": {
   "display_name": "Python 3",
   "language": "python",
   "name": "python3"
  },
  "language_info": {
   "codemirror_mode": {
    "name": "ipython",
    "version": 3
   },
   "file_extension": ".py",
   "mimetype": "text/x-python",
   "name": "python",
   "nbconvert_exporter": "python",
   "pygments_lexer": "ipython3",
   "version": "3.6.9"
  },
  "toc": {
   "base_numbering": 1,
   "nav_menu": {},
   "number_sections": true,
   "sideBar": true,
   "skip_h1_title": false,
   "title_cell": "Table of Contents",
   "title_sidebar": "Contents",
   "toc_cell": false,
   "toc_position": {},
   "toc_section_display": true,
   "toc_window_display": true
  },
  "varInspector": {
   "cols": {
    "lenName": 16,
    "lenType": 16,
    "lenVar": 40
   },
   "kernels_config": {
    "python": {
     "delete_cmd_postfix": "",
     "delete_cmd_prefix": "del ",
     "library": "var_list.py",
     "varRefreshCmd": "print(var_dic_list())"
    },
    "r": {
     "delete_cmd_postfix": ") ",
     "delete_cmd_prefix": "rm(",
     "library": "var_list.r",
     "varRefreshCmd": "cat(var_dic_list()) "
    }
   },
   "types_to_exclude": [
    "module",
    "function",
    "builtin_function_or_method",
    "instance",
    "_Feature"
   ],
   "window_display": false
  }
 },
 "nbformat": 4,
 "nbformat_minor": 4
}
